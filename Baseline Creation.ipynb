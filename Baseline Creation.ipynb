{
 "cells": [
  {
   "cell_type": "markdown",
   "id": "3dd10f1e",
   "metadata": {},
   "source": [
    "# Baseline Creation"
   ]
  },
  {
   "cell_type": "code",
   "execution_count": 1,
   "id": "163961bf",
   "metadata": {},
   "outputs": [],
   "source": [
    "import re\n",
    "from nltk.text import Text\n",
    "import numpy as np\n",
    "import pipeline_caller\n",
    "\n",
    "caller = pipeline_caller.PipelineCaller()"
   ]
  },
  {
   "cell_type": "code",
   "execution_count": 2,
   "id": "a0f4e1ef",
   "metadata": {},
   "outputs": [],
   "source": [
    "with open('halil_inal.txt', 'r', encoding = 'utf-8') as f1:\n",
    "    halil_raw = f1.read()"
   ]
  },
  {
   "cell_type": "code",
   "execution_count": 3,
   "id": "bc510a8b",
   "metadata": {},
   "outputs": [],
   "source": [
    "with open('ilber_ort.txt', 'r', encoding = 'utf-8') as f2:\n",
    "    ilber_raw = f2.read()"
   ]
  },
  {
   "cell_type": "code",
   "execution_count": 4,
   "id": "fe7d290c",
   "metadata": {},
   "outputs": [],
   "source": [
    "def initial_cleaner(text):\n",
    "    cleaned_text = list(map(lambda x: x \\\n",
    "                     .replace(\"\\n\", \" \") \\\n",
    "                     .replace(\"\\uf0f5\", \"ı\") \\\n",
    "                     .replace(\"\\x0c\", \"\"), text.split()))\n",
    "    \n",
    "    return cleaned_text"
   ]
  },
  {
   "cell_type": "code",
   "execution_count": 5,
   "id": "147ea594",
   "metadata": {},
   "outputs": [],
   "source": [
    "halil_cleaned = \" \".join(initial_cleaner(halil_raw))\n",
    "ilber_cleaned = \" \".join(initial_cleaner(ilber_raw))"
   ]
  },
  {
   "cell_type": "code",
   "execution_count": 6,
   "id": "c1268dc9",
   "metadata": {},
   "outputs": [],
   "source": [
    "#Applying ITU NLP Sentence Splitter\n",
    "\n",
    "ilber_tkz = caller.call('sentencesplitter', ilber_cleaned, 'luUiBPs1DC9iAxrWlFLRDDN8atWtGGL7').splitlines()\n",
    "halil_tkz = caller.call('sentencesplitter', halil_cleaned, 'luUiBPs1DC9iAxrWlFLRDDN8atWtGGL7').splitlines()"
   ]
  },
  {
   "cell_type": "code",
   "execution_count": 7,
   "id": "ab65fe2b",
   "metadata": {},
   "outputs": [],
   "source": [
    "minority_keywords = [\"yunan\", \"ermeni\", \"kürt\", \"alevi\", \" arap\", \"boşnak\", \"çerkes\", \"çingene\", \"yahudi\", \"rum\", \"gayri\", \\\n",
    "                    \"hristiyan\", \"arnavut\"]\n",
    "\n",
    "\n",
    "ilber_minority_sentences = []\n",
    "\n",
    "for sent in ilber_tkz:\n",
    "    for kw in minority_keywords:\n",
    "        for word in sent.split():\n",
    "            if word.lower().startswith(kw):\n",
    "                ilber_minority_sentences.append(sent)\n",
    "            else:\n",
    "                continue\n",
    "            \n",
    "\n",
    "halil_minority_sentences = []\n",
    "\n",
    "for sent in halil_tkz:\n",
    "    for kw in minority_keywords:\n",
    "        for word in sent.split():\n",
    "            if word.lower().startswith(kw):\n",
    "                halil_minority_sentences.append(sent)\n",
    "            else:\n",
    "                continue\n"
   ]
  },
  {
   "cell_type": "code",
   "execution_count": 8,
   "id": "fd7a0f93",
   "metadata": {
    "scrolled": true
   },
   "outputs": [
    {
     "name": "stdout",
     "output_type": "stream",
     "text": [
      "İlbert Ortaylı Minority Sentences: 337 \n",
      " Halil İnalcık Minority Sentences: 279\n"
     ]
    }
   ],
   "source": [
    "print(\"İlbert Ortaylı Minority Sentences:\", len(ilber_minority_sentences), \"\\n\",\\\n",
    "      \"Halil İnalcık Minority Sentences:\", len(halil_minority_sentences))"
   ]
  },
  {
   "cell_type": "code",
   "execution_count": 11,
   "id": "6079ca9d",
   "metadata": {},
   "outputs": [],
   "source": [
    "with open(\"ilber_minority_sentences.txt\", \"w\") as ilber:\n",
    "    ilber.write(\"\\n\".join(str(sentence) for sentence in ilber_minority_sentences))"
   ]
  },
  {
   "cell_type": "code",
   "execution_count": 12,
   "id": "d607b939",
   "metadata": {},
   "outputs": [],
   "source": [
    "with open(\"halil_minority_sentences.txt\", \"w\") as halil:\n",
    "    halil.write(\"\\n\".join(str(sentence) for sentence in halil_minority_sentences))"
   ]
  },
  {
   "cell_type": "markdown",
   "id": "d19f9c7a",
   "metadata": {},
   "source": [
    "# Sentiment Analysis"
   ]
  },
  {
   "cell_type": "code",
   "execution_count": 15,
   "id": "c4cb7163",
   "metadata": {},
   "outputs": [],
   "source": [
    "import re\n",
    "from nltk.text import Text\n",
    "import numpy as np\n",
    "from trtokenizer.tr_tokenizer import SentenceTokenizer, WordTokenizer"
   ]
  },
  {
   "cell_type": "code",
   "execution_count": 16,
   "id": "677fe8dc",
   "metadata": {},
   "outputs": [],
   "source": [
    "sent_tok = SentenceTokenizer()\n",
    "word_tok = WordTokenizer()"
   ]
  },
  {
   "cell_type": "code",
   "execution_count": 17,
   "id": "22850d5b",
   "metadata": {},
   "outputs": [],
   "source": [
    "import zeyrek\n",
    "analyzer = zeyrek.MorphAnalyzer()\n",
    "\n",
    "def lemmatize_text(text):\n",
    "    \n",
    "    lemmatized_words = []\n",
    "    \n",
    "    for sent in text:\n",
    "        for item in analyzer.lemmatize(sent):\n",
    "            if item[0].istitle():\n",
    "                lemmatized_words.append(item[1][0].title())\n",
    "            else:\n",
    "                lemmatized_words.append(item[1][0])\n",
    "    \n",
    "    sentences_stemmed = list(sent_tok.tokenize(\" \".join(lemmatized_words)))\n",
    "    return sentences_stemmed"
   ]
  },
  {
   "cell_type": "code",
   "execution_count": 18,
   "id": "699947fe",
   "metadata": {},
   "outputs": [],
   "source": [
    "ilber_minority_lemmatized = lemmatize_text(ilber_minority_sentences)\n",
    "halil_minority_lemmatized = lemmatize_text(halil_minority_sentences)"
   ]
  },
  {
   "cell_type": "code",
   "execution_count": 19,
   "id": "70b47a30",
   "metadata": {},
   "outputs": [
    {
     "name": "stdout",
     "output_type": "stream",
     "text": [
      "['Historia Latin tarih kelime , Aslı Yuna ; “ somut bir malzeme , müşahhas bir malzeme , bilgi ” demek .', 'Yumak aslında tarih çok sevmek ada değil ; Arab gibi , İran gibi değil .', 'Herodot tarih olmak başka millet soyutlamak , tecerrüd etmek bir Yumak medeniyet tarz yok .']\n",
      "-------------------------------------------------------------------\n"
     ]
    }
   ],
   "source": [
    "print(ilber_minority_lemmatized[:3])\n",
    "print(\"-------------------------------------------------------------------\")"
   ]
  },
  {
   "cell_type": "code",
   "execution_count": 20,
   "id": "41e8051b",
   "metadata": {},
   "outputs": [],
   "source": [
    "import pandas as pd\n",
    "\n",
    "sent_lexicon = pd.read_excel('STN.xlsx')"
   ]
  },
  {
   "cell_type": "code",
   "execution_count": 21,
   "id": "349501b5",
   "metadata": {},
   "outputs": [
    {
     "name": "stdout",
     "output_type": "stream",
     "text": [
      "(14795, 11)\n",
      "True\n",
      "(13526, 11)\n"
     ]
    }
   ],
   "source": [
    "print(sent_lexicon.shape)\n",
    "print(sent_lexicon['synonyms'].isnull().values.any())\n",
    "sent_lexicon = sent_lexicon[sent_lexicon['synonyms'].notna()]\n",
    "print(sent_lexicon.shape)"
   ]
  },
  {
   "cell_type": "code",
   "execution_count": 22,
   "id": "16cd0d3b",
   "metadata": {},
   "outputs": [],
   "source": [
    "def sentiment_classifier_count(text):\n",
    "    sentence_values = pd.DataFrame()\n",
    "    text = text.split()\n",
    "    for word in text:\n",
    "        word = word.lower()\n",
    "        try:\n",
    "            if  sent_lexicon['synonyms'].str.contains(word).any():\n",
    "                synset_vals = sent_lexicon[sent_lexicon['synonyms'].str.contains(word)][['neg value', 'obj value', 'pos value']]\n",
    "                word_negative_prob = sum(synset_vals[\"neg value\"]) / synset_vals.shape[0]\n",
    "                word_obj_prob = sum(synset_vals[\"obj value\"]) / synset_vals.shape[0]\n",
    "                word_pos_prob = sum(synset_vals[\"pos value\"]) / synset_vals.shape[0]\n",
    "                merged = {\"neg\": word_negative_prob, \"obj\": word_obj_prob, \"pos\": word_pos_prob}\n",
    "                sentence_values = sentence_values.append(merged, ignore_index=True)\n",
    "            else:\n",
    "                continue\n",
    "        except:\n",
    "            continue\n",
    "    \n",
    "    neg_words_num = 0\n",
    "    obj_words_num = 0\n",
    "    pos_words_num = 0\n",
    "\n",
    "    try:\n",
    "        for ix, row in sentence_values.iterrows():\n",
    "            neg = (row[0])\n",
    "            obj = (row[1])\n",
    "            pos = (row[2])\n",
    "            row_values = [neg, obj, pos]\n",
    "            if row_values.index(max(row_values)) == 0:\n",
    "                neg_words_num = neg_words_num + 1\n",
    "            \n",
    "            if row_values.index(max(row_values)) == 1:\n",
    "                obj_words_num = obj_words_num +1\n",
    "            \n",
    "            if row_values.index(max(row_values)) == 2:\n",
    "                pos_words_num = pos_words_num + 1\n",
    "            \n",
    "        verdict_counts = (neg_words_num, obj_words_num, pos_words_num)\n",
    "            \n",
    "        if verdict_counts.index(max(verdict_counts)) == 0:\n",
    "            verdict = 'negative'\n",
    "        \n",
    "        elif verdict_counts.index(max(verdict_counts)) == 1:\n",
    "            if verdict_counts[0] > verdict_counts[2]:\n",
    "                verdict = 'negative'\n",
    "                \n",
    "            elif verdict_counts[0] < verdict_counts[2]:\n",
    "                verdict = 'positive'\n",
    "            else:\n",
    "                verdict = 'objective'\n",
    "            \n",
    "        elif verdict_counts.index(max(verdict_counts)) == 2:\n",
    "            verdict = 'positive'\n",
    "        \n",
    "        else:\n",
    "            verdict = 'unidentified'\n",
    "        \n",
    "    except:\n",
    "        verdict = 'unidentified'\n",
    "    return verdict"
   ]
  },
  {
   "cell_type": "code",
   "execution_count": 25,
   "id": "f21117f7",
   "metadata": {},
   "outputs": [],
   "source": [
    "ilber_classified = []\n",
    "\n",
    "for sent in ilber_minority_lemmatized:\n",
    "    if len(sent.split()) > 6:\n",
    "        verdict = sentiment_classifier_count(sent)\n",
    "        row = (str(sent), verdict)\n",
    "        ilber_classified.append(row)    \n",
    "    else:\n",
    "        continue"
   ]
  },
  {
   "cell_type": "code",
   "execution_count": 26,
   "id": "d257212c",
   "metadata": {
    "scrolled": true
   },
   "outputs": [
    {
     "name": "stdout",
     "output_type": "stream",
     "text": [
      "                                            Sentence      Class\n",
      "0  Historia Latin tarih kelime , Aslı Yuna ; “ so...  objective\n",
      "1  Yumak aslında tarih çok sevmek ada değil ; Ara...   negative\n",
      "2  Herodot tarih olmak başka millet soyutlamak , ...  objective\n",
      "3  Dolayısıyla , barbar demek Kavram Yumak tarafı...   negative\n",
      "4  Yumak için barbar , hiç tesbit etmek , tanımak...   negative\n",
      "----------------------------\n",
      "objective    175\n",
      "positive      95\n",
      "negative      85\n",
      "Name: Class, dtype: int64\n"
     ]
    }
   ],
   "source": [
    "df_ilber_classified = pd.DataFrame(ilber_classified, columns = [\"Sentence\", \"Class\"])\n",
    "print(df_ilber_classified.head())\n",
    "print(\"----------------------------\")\n",
    "print(df_ilber_classified[\"Class\"].value_counts())"
   ]
  },
  {
   "cell_type": "code",
   "execution_count": 27,
   "id": "694b46e7",
   "metadata": {},
   "outputs": [],
   "source": [
    "df_ilber_classified.to_csv('lexicon_countbased_ilber.csv', index=False)"
   ]
  },
  {
   "cell_type": "code",
   "execution_count": 28,
   "id": "86d6cc54",
   "metadata": {},
   "outputs": [],
   "source": [
    "halil_classified = []\n",
    "\n",
    "for sent in halil_minority_lemmatized:\n",
    "    if len(sent.split()) > 6:\n",
    "        verdict = sentiment_classifier_count(sent)\n",
    "        row = (str(sent), verdict)\n",
    "        halil_classified.append(row)    \n",
    "    else:\n",
    "        continue"
   ]
  },
  {
   "cell_type": "code",
   "execution_count": 29,
   "id": "8a26fbb1",
   "metadata": {},
   "outputs": [
    {
     "name": "stdout",
     "output_type": "stream",
     "text": [
      "                                            Sentence      Class\n",
      "0  Rum ahali kıyı kaçmak veya şehir yen gelen Uz ...   negative\n",
      "1  Orta Toros bölge , Kilikya–Çukurovadaki Küçük ...  objective\n",
      "2  Rumeli faal Bap Saltuk , Batı göçmek Babai , o...  objective\n",
      "3  Bayezid 1484 Akkerman sefer on türbe ve zaviye...  objective\n",
      "4  Keykavus desteklemek Türkmen 40 Kadar Türkmen ...  objective\n",
      "----------------------------\n",
      "objective    145\n",
      "negative      84\n",
      "positive      81\n",
      "Name: Class, dtype: int64\n"
     ]
    }
   ],
   "source": [
    "df_halil_classified = pd.DataFrame(halil_classified, columns = [\"Sentence\", \"Class\"])\n",
    "print(df_halil_classified.head())\n",
    "print(\"----------------------------\")\n",
    "print(df_halil_classified[\"Class\"].value_counts())"
   ]
  },
  {
   "cell_type": "code",
   "execution_count": 30,
   "id": "8ce801db",
   "metadata": {},
   "outputs": [],
   "source": [
    "df_halil_classified.to_csv('lexicon_countbased_halil.csv', index=False)"
   ]
  },
  {
   "cell_type": "markdown",
   "id": "9d12f299",
   "metadata": {},
   "source": [
    "# Plotting"
   ]
  },
  {
   "cell_type": "code",
   "execution_count": 31,
   "id": "52691f62",
   "metadata": {},
   "outputs": [],
   "source": [
    "import matplotlib.pyplot as plt\n",
    "import seaborn as sns\n",
    "sns.set_theme(style=\"darkgrid\")"
   ]
  },
  {
   "cell_type": "code",
   "execution_count": 38,
   "id": "f778c6fc",
   "metadata": {},
   "outputs": [],
   "source": [
    "df_halil_classified.loc[df_halil_classified.Class == 1, 'Class'] = \"negative\"\n",
    "df_halil_classified.loc[df_halil_classified.Class == 2, 'Class'] = \"objective\"\n",
    "df_halil_classified.loc[df_halil_classified.Class == 3, 'Class'] = \"positive\""
   ]
  },
  {
   "cell_type": "code",
   "execution_count": 58,
   "id": "ba3a7ed1",
   "metadata": {
    "scrolled": true
   },
   "outputs": [],
   "source": [
    "df_halil_classified[\"Author\"] = \"İnalcık (2009)\""
   ]
  },
  {
   "cell_type": "code",
   "execution_count": 59,
   "id": "ce469228",
   "metadata": {},
   "outputs": [],
   "source": [
    "df_ilber_classified[\"Author\"] = \"Ortaylı (2010)\""
   ]
  },
  {
   "cell_type": "code",
   "execution_count": 60,
   "id": "a50bc9b1",
   "metadata": {},
   "outputs": [],
   "source": [
    "frames= [df_ilber_classified, df_halil_classified]\n",
    "\n",
    "merged_results = pd.concat(frames)"
   ]
  },
  {
   "cell_type": "code",
   "execution_count": 62,
   "id": "39c7969f",
   "metadata": {},
   "outputs": [
    {
     "data": {
      "image/png": "[encoded data removed]",
      "text/plain": [
       "<Figure size 443.35x360 with 1 Axes>"
      ]
     },
     "metadata": {},
     "output_type": "display_data"
    }
   ],
   "source": [
    "x, y = 'Author', 'Class'\n",
    "\n",
    "plot_collective = (merged_results\n",
    ".groupby(x)[y]\n",
    ".value_counts(normalize=True)\n",
    ".mul(100)\n",
    ".rename('percent')\n",
    ".reset_index()\n",
    ".pipe((sns.catplot,'data'), x=x,y='percent',hue=y, kind='bar'))\n",
    "\n",
    "plot_collective.set(xlabel=\"Authors\", ylabel = \"Percentage\", title='Lexicon-Based Classification Results for İnalcık (2009) and Ortaylı (2010)')\n",
    "plt.savefig('halil_ilber.png', dpi=900, bbox_inches='tight')"
   ]
  },
  {
   "cell_type": "code",
   "execution_count": null,
   "id": "caa9956b",
   "metadata": {},
   "outputs": [],
   "source": []
  }
 ],
 "metadata": {
  "kernelspec": {
   "display_name": "Python 3 (ipykernel)",
   "language": "python",
   "name": "python3"
  },
  "language_info": {
   "codemirror_mode": {
    "name": "ipython",
    "version": 3
   },
   "file_extension": ".py",
   "mimetype": "text/x-python",
   "name": "python",
   "nbconvert_exporter": "python",
   "pygments_lexer": "ipython3",
   "version": "3.8.12"
  }
 },
 "nbformat": 4,
 "nbformat_minor": 5
}
