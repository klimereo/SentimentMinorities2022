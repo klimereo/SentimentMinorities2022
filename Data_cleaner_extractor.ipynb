{
 "cells": [
  {
   "cell_type": "markdown",
   "id": "9a188336",
   "metadata": {},
   "source": [
    "# Dataset Cleaning Preparation\n",
    "\n",
    "This Jupyter Notebook does the following:\n",
    "1. Imports the unprocessed textbooks in the form txt files\n",
    "1. Cleans and sentence tokenizes the texts\n",
    "1. Extracts sentences containing the specified minority keywords\n",
    "1. Writes the extracted sentences to their respective txt files for other sentiment analysis models to be used"
   ]
  },
  {
   "cell_type": "code",
   "execution_count": 1,
   "id": "428f7f29",
   "metadata": {},
   "outputs": [],
   "source": [
    "import re\n",
    "from nltk.text import Text\n",
    "import numpy as np\n",
    "import pipeline_caller\n",
    "\n",
    "caller = pipeline_caller.PipelineCaller()"
   ]
  },
  {
   "cell_type": "code",
   "execution_count": 2,
   "id": "c7c57319",
   "metadata": {},
   "outputs": [],
   "source": [
    "r_file_names = ['obl/txt/9tarih.txt', 'obl/txt/10tarih.txt', 'obl/txt/11tarih.txt', 'obl/txt/12inkilap.txt']\n",
    "\n",
    "with  open(r_file_names[0], \"r\", encoding = \"utf-8\") as f1:\n",
    "    raw_text1 = f1.read()\n",
    "\n",
    "with  open(r_file_names[1], \"r\", encoding = \"utf-8\") as f2:\n",
    "    raw_text2 = f2.read()\n",
    "    \n",
    "with  open(r_file_names[2], \"r\", encoding = \"utf-8\") as f3:\n",
    "    raw_text3 = f3.read()\n",
    "    \n",
    "with  open(r_file_names[3], \"r\", encoding = \"utf-8\") as f4:\n",
    "    raw_text4 = f4.read()"
   ]
  },
  {
   "cell_type": "code",
   "execution_count": 3,
   "id": "e96332c6",
   "metadata": {},
   "outputs": [],
   "source": [
    "def initial_cleaner(text):\n",
    "    cleaned_text = list(map(lambda x: x \\\n",
    "                     .replace(\"\\n\", \" \") \\\n",
    "                     .replace(\"\\uf0f5\", \"ı\") \\\n",
    "                     .replace(\"\\x0c\", \"\"), text.split()))\n",
    "    \n",
    "    return cleaned_text"
   ]
  },
  {
   "cell_type": "code",
   "execution_count": 4,
   "id": "e3528b14",
   "metadata": {},
   "outputs": [],
   "source": [
    "text9 = \" \".join(initial_cleaner(raw_text1))\n",
    "text10 = \" \".join(initial_cleaner(raw_text2))\n",
    "text11 = \" \".join(initial_cleaner(raw_text3))\n",
    "text12 = \" \".join(initial_cleaner(raw_text4))"
   ]
  },
  {
   "cell_type": "code",
   "execution_count": 5,
   "id": "0166d895",
   "metadata": {},
   "outputs": [],
   "source": [
    "#Applying ITU NLP Sentence Splitter\n",
    "\n",
    "text9_tkz = caller.call('sentencesplitter', text9, 'luUiBPs1DC9iAxrWlFLRDDN8atWtGGL7').splitlines()\n",
    "text10_tkz = caller.call('sentencesplitter', text10, 'luUiBPs1DC9iAxrWlFLRDDN8atWtGGL7').splitlines()\n",
    "text11_tkz = caller.call('sentencesplitter', text11, 'luUiBPs1DC9iAxrWlFLRDDN8atWtGGL7').splitlines()\n",
    "text12_tkz = caller.call('sentencesplitter', text12, 'luUiBPs1DC9iAxrWlFLRDDN8atWtGGL7').splitlines()"
   ]
  },
  {
   "cell_type": "code",
   "execution_count": 9,
   "id": "1c2961e2",
   "metadata": {},
   "outputs": [],
   "source": [
    "minority_keywords = [\"yunan\", \"ermeni\", \"kürt\", \"alevi\", \" arap\", \"boşnak\", \"çerkes\", \"çingene\", \"yahudi\", \"rum\", \"gayri\", \\\n",
    "                    \"hristiyan\", \"arnavut\"]\n",
    "\n",
    "\n",
    "txt9_minority_sentences = []\n",
    "\n",
    "for sent in text9_tkz:\n",
    "    for kw in minority_keywords:\n",
    "        for word in sent.split():\n",
    "            if word.lower().startswith(kw):\n",
    "                txt9_minority_sentences.append(sent)\n",
    "            else:\n",
    "                continue\n",
    "            \n",
    "\n",
    "txt10_minority_sentences = []\n",
    "\n",
    "for sent in text10_tkz:\n",
    "    for kw in minority_keywords:\n",
    "        for word in sent.split():\n",
    "            if word.lower().startswith(kw):\n",
    "                txt10_minority_sentences.append(sent)\n",
    "            else:\n",
    "                continue\n",
    "\n",
    "\n",
    "txt11_minority_sentences = []\n",
    "for sent in text11_tkz:\n",
    "    for kw in minority_keywords:\n",
    "        for word in sent.split():\n",
    "            if word.lower().startswith(kw):\n",
    "                txt11_minority_sentences.append(sent)\n",
    "            else:\n",
    "                continue\n",
    "\n",
    "txt12_minority_sentences = []\n",
    "for sent in text12_tkz:\n",
    "    for kw in minority_keywords:\n",
    "        for word in sent.split():\n",
    "            if word.lower().startswith(kw):\n",
    "                txt12_minority_sentences.append(sent)\n",
    "            else:\n",
    "                continue      "
   ]
  },
  {
   "cell_type": "code",
   "execution_count": 10,
   "id": "dc216c38",
   "metadata": {
    "scrolled": false
   },
   "outputs": [
    {
     "name": "stdout",
     "output_type": "stream",
     "text": [
      "9th Grade Textbook Minority Sentence Counts: 117 \n",
      " 10th Grade Textbook Minority Sentence Counts: 206 \n",
      " 11th Grade Textbook Minority Sentence Counts: 250 \n",
      " 12th Grade Textbook Minority Sentence Counts: 591\n"
     ]
    }
   ],
   "source": [
    "print(\"9th Grade Textbook Minority Sentence Counts:\", len(txt9_minority_sentences), \"\\n\",\\\n",
    "      \"10th Grade Textbook Minority Sentence Counts:\", len(txt10_minority_sentences), \"\\n\",\\\n",
    "      \"11th Grade Textbook Minority Sentence Counts:\", len(txt11_minority_sentences), \"\\n\",\\\n",
    "      \"12th Grade Textbook Minority Sentence Counts:\", len(txt12_minority_sentences))"
   ]
  },
  {
   "cell_type": "code",
   "execution_count": 11,
   "id": "8f476b31",
   "metadata": {},
   "outputs": [
    {
     "data": {
      "text/plain": [
       "['3 Ermenilerin Faaliyetleri ve ASALA Terör Örgütü...................',\n",
       " 'Bilgi Notu Bilgi Notu Ali Rıza Efendi’nin ailesi; Osmanlı Devleti’nin Rumeli’yi iskân siyaseti doğrultusunda, Anadolu’dan göç ettirilerek Makedonya’da Manastır ilinin Debre-i Bâlâ Sancağı’na yer- leştirilmiş Kocacık Yörüklerinden- dir.',\n",
       " 'Zübeyde Hanım’ın ataları, Fatih Sultan Mehmet döneminde, Kon- ya yöresinden Rumeli’ye göç etti- rilmiş ‘Konyarlar’ diye adlandırılan Türkmenlerdendir.',\n",
       " 'İz Bırakan Şehirler Selanik: Mustafa Kemal’in doğup büyüdüğü ve günümüzde Yunanistan’ın sınırları içerisinde kalan Selanik, Makedonya’nın sosyal, siyasi, ekonomik ve kültürel açıdan en gelişmiş şehriydi.',\n",
       " 'Nüfusunun çoğunluğu Türk olan Selanik’te; Yunan, Ermeni, Bul- gar, Yahudi gibi çeşitli din, mezhep ve milletlerden insanlar bir arada yaşa- maktaydı.',\n",
       " 'Nüfusunun çoğunluğu Türk olan Selanik’te; Yunan, Ermeni, Bul- gar, Yahudi gibi çeşitli din, mezhep ve milletlerden insanlar bir arada yaşa- maktaydı.',\n",
       " 'Nüfusunun çoğunluğu Türk olan Selanik’te; Yunan, Ermeni, Bul- gar, Yahudi gibi çeşitli din, mezhep ve milletlerden insanlar bir arada yaşa- maktaydı.',\n",
       " '“Affediniz, sizin yazdığınızı bilmiyordum. Yazmamış olmanızı temenni eder- dim. Cemal Bey, şu ve bu tarzda siz birtakım kimselere kendinizi beğen- dirmek hevesine düşmeyiniz. Bunun hiçbir kıymeti ve önemi yoktur. Siz içinde bulunduğumuz vaziyeti değerlendiriniz ve öncelikle kabul ediniz ki biraz fedakâr ve özverili olmak lazımdır. Eğer şunun bunun ilgisinden kuvvet almaya tenezzül ederseniz şu anki durumunuzu bilmem fakat geleceğiniz çürük olur. Çünkü bizim henüz gerçeklerle yüzleşmemiş geniş çevrelerimiz vardır. Bu çevrelerde hayallerle dolu kimseler çoktur. Büyüklük odur ki hiç kimseye iltifat etmeyeceksin, hiç kimseyi aldatmayacaksın, memleket için gerçek ülkü ne ise onu görecek, o hedefe yürüyeceksin, herkes senin aley- hinde bulunacaktır, herkes seni yolundan çevirmeye çalışacaktır. İşte sen bunda karşı koyuşları yok eden olacaksın. Önüne sayılamayacak güçlükler yığacaklardır, kendini büyük değil küçük, zayıf, araçsız, hiç sayarak, kimse- den yardım gelmeyeceğine inanarak bu güçlükleri aşacaksın. Ondan sonra sana büyüksün derlerse, bunu diyenlere de güleceksin. Görsel 1.9 Ziya Gökalp Görsel 1.11 Mehmet Emin Yurdakul Görsel 1.13 Montesquieu Görsel 1.10 Namık Kemal Görsel 1.12 J.J. Rousseau Görsel 1.14 Voltaire Girit Yunanistan’a bağlandı. 31 Mart Ayaklanması çıktı. 1908 1909 13 Nisan 25 1. Ünite1. Ünite 1.2. XX. YÜZYIL BAŞLARINDA OSMANLI DEVLETİ Görsel 1.15: Hürriyet, adalet, müsavat (eşitlik), uhuvvet (kardeşlik) başlıklı II. Meşrutiyet’in ilanı ile ilgili bir kartpostal Araştır Öğren Paylaş Bir ülkede siyasi düzenin değişmesi, halkın hayatında ne gibi deği- şimler meydana getirir? Tartışınız. 1. 2. 1. Siyasi Durum Osmanlı Devleti XIX. yüzyıldan itibaren Fransız İhtilali ve Sanayi İnkıla- bı’nın etkisiyle yaşanan gelişmeler karşısında çok zor durumda kalmıştır. Hem sömürgecilik rekabetinde olan Avrupalı devletlerin Osmanlı toprakları- nı işgale başlamaları hem de devletin sınırları içerisinde yer alan azınlıkların isyanları Osmanlı Devleti’nin toprak kayıplarını artırmıştır. II. Meşrutiyet’in İlanı: İttihat ve Terakki Cemiyeti, mason ve İtalyan Car- bonari (Karbonari) teşkilatlarını örnek alarak kurulan bir örgüttür. Mekteb-i Tıbbiye öğrencileri tarafından Yeni Osmanlılar çizgisinde çalışarak teşkilatla- nan cemiyet, daha sonra Mekteb-i Harbiye öğrencileri arasında yayıldı. Gizli faaliyet gösteren cemiyet üyeleri Sultan II.Abdülhamid’e karşıydı. Fransız İhtilali’nin düşüncelerini kendilerine örnek alan İttihat ve Terakki Cemiyeti- nin siyasal amacı Meşrutiyet’i ilan edip Mebusan Meclisinin açılmasını sağ- lamaktı. İngiltere ve Rusya’nın Reval’de bir araya gelerek Makedonya ve Boğazlar konusunda yaptıkları görüşmeler, İttihat ve Terakki Cemiyeti üyele- rini tedirgin etmişti. Devleti dağılmaktan kurtarmak için bir an önce Meşruti- yet’in ilan edilmesi gerektiğini düşünen cemiyet üyeleri ayaklandılar. İttihat ve Terakki Cemiyetinin faaliyetleri neticesinde Sultan II. Abdülhamit yeniden Meşrutiyet’i ilan etti (23 Temmuz 1908) ve Kanun-ı Esasi (1876 Anayasası) yeniden yürürlüğe girdi (Görsel 1.15). Bilgi Notu Bilgi Notu Trablusgarp: Kuzey Afrika’da bu- gün Libya adı verilen ülkededir. Dünya savaş tarihinde, savaş uçağı ilk kez 1911’de Trablusgarp Sava- şı’nda Osmanlı Devleti’ne karşı kul- lanılmıştır. Mustafa Kemal’in katıldığı ilk sa- vaştır. Mustafa Kemal, Hareket Ordusu’nda görev aldı. 1909 26 Hareket Ordusu İstanbul’a girdi. 1909 XX. YÜZYIL BAŞLARINDA OSMANLI DEVLETİ VE DÜNYAXX. YÜZYIL BAŞLARINDA OSMANLI DEVLETİ VE DÜNYA II. Meşrutiyet Dönemi’nde İttihat ve Terakki Cemiyeti dışında; Osmanlı Ah- rar Fırkası, İttihad-ı Muhammedi Fırkası, Fedakaran-ı Millet, Heyeti-i Müt- tefika-i Osmaniye Fırkası gibi birçok cemiyet kurularak ilk kez çok partili hayata da geçildi. Bulgaristan’ın bağımsız olması (1908), Bosna Hersek’in Avusturya tarafından işgal edilmesi (1908) ve Girit’in Yunanistan’a katılma- sıyla (1908) beraber yaşanan olumsuzluklar, iç politikadaki huzursuzluğu daha da artırdı. Meşrutiyet yönetimine karşı olanlar tarafından 31 Mart Ayak- lanması (13 Nisan 1909) çıkarıldı. Ayaklanma komutanlığını Mahmut Şevket Paşa’nın yaptığı kurmay başkanlığını Mustafa Kemal’in yaptığı Selanik’ten gelen Hareket Ordusu tarafından bastırıldı (Görsel 1.16). Bu olaydan sonra Sultan II. Abdülhamit tahttan indirildi ve yerine Sultan Mehmet Reşat (V. Mehmet) tahta çıkarıldı. 31 Mart Ayaklanması’nın bastırılmasından sonra İttihat ve Terakki Cemi- yetinin ülke yönetimindeki etkisi daha da arttı. Kanun-ı Esasi’de değişiklik yapılarak padişahın meclisi feshetmesi zorlaştırıldı, padişahın veto hakkı sı- nırlandırıldı ve hükûmet meclise karşı sorumlu hâle geldi. Bu değişikliklerle amaçlanan, anayasayı daha demokratik bir hâle getirmekti. Osmanlıcılık ve İslamcılık akımlarının sonuçsuz kaldığını gören İttihat ve Terakki Cemiyeti, Türkçülük politikasına ağırlık verdi. Trablusgarp Savaşı: 1870’de siyasi birliğini kuran İtalya, sömürgecilik re- kabetine katıldı. Fransa; Tunus, Cezayir ve Fas’ı; İngiltere ise Mısır’ı işgal etmişti. İtalya da Osmanlı Devleti’nin Kuzey Afrika’daki son toprağı olan Trablusgarp’a yöneldi ve Osmanlı Devleti’ne ültimatom vererek bu toprakla- rın kendisine teslim edilmesini istedi. Osmanlı Devleti bu isteği kabul etme- yince İtalya, Osmanlı’ya savaş ilan etti (1911) (Harita 1.1). Görsel 1.16: Mustafa Kemal, Hareket Ordusu’nda Hüseyin Hüsnü Paşa ile birlikte İT A L Y A BULGARİSTAN KARADENİZ RUSYA YUNANİSTAN OSMANLI DEVLETİ GİRİT AKDENİZ KIBRIS K Trablusgarp Derne Bingazi Tobruk MISIR 0 100 200 300 Osmanlı egemenliğindeki topraklar İtalya’nın saldırdığı bölgeler Harita 1.1: Trablusgarp Savaşı haritası Düşünelim Tartışalım Harita 1.1’den yola çıkarak Osmanlı Devleti’nin Trablusgarp’ı gerekti- ği gibi savunamamasının nedeni neler olabilir? Değerlendiriniz. Sultan II. Abdülhamit tahttan indirildi. 1909 Sultan V. Mehmet Reşat tahta çıktı. 1909 27 1. Ünite1. Ünite Osmanlı, bölgeye karadan ve denizden gereken yardımı gönderemedi. Mus- tafa Kemal, Enver Bey ve Fethi Bey gibi gönüllü subaylar, Trablusgarp’a giderek halkı örgütleyip İtalyanlara karşı başarılı bir şekilde mücadele ettiler. Mustafa Kemal, Derne ve Tobruk’ta; Enver Bey, Bingazi’de önemli başarılar kazandılar. İtalya, Osmanlı’yı zor durumda bırakmak için Çanakkale Boğazı’nı abluka altına aldı ve On İki Ada’yı işgal etti. I. Balkan Savaşı’nın başlaması üzerine Osmanlı Devleti barış istemek zorunda kaldı. İtalya ile Osmanlı Devleti ara- sında Ouchy (Uşi) Antlaşması imzalandı (18 Ekim 1912). Trablusgarp İtal- ya’ya bırakıldı. Böylece Osmanlı Devleti’nin Kuzey Afrika’daki varlığı sona erdi. On İki Ada da geçici olarak İtalya’ya bırakıldı. Vatan savunmasına ait görevlerden daha önemli ve yüce görev olamaz. Balkan Savaşları: Balkan Savaşları öncesi Batı Trakya, Makedonya, Arna- vutluk ve Doğu Trakya Osmanlı Devleti’nin egemenliğindeydi (Harita 1.2). Karadağ’ın saldırısıyla başlayan I. Balkan Savaşı’nda; Sırbistan, Bulgaristan ve Yunanistan’ın da savaşa katılmasıyla birlikte Osmanlı Devleti kısa süre- de yenilgiye uğradı. Bulgarlar, Kırklareli ve Edirne’yi işgal edip Çatalca’ya kadar ilerledi. Yunanlar, Selanik’i ele geçirip Ege Adaları’nı işgal etti. Sırp- lar, Üsküp ve arkasından Manastır’ı işgal etti. Karadağlılar, İşkodra’yı ele geçirdi. Bütün bu gelişmeler yaşanırken Arnavutluk bağımsızlığını ilan etti. Büyük devletlerin arabuluculuğu neticesinde yapılan Londra Antlaşması (30 Mayıs 1913) ile Osmanlı Devleti, Midye- Enez hattının batısında kalan top- raklarını kaybetti. Osmanlı Devleti karşısında büyük başarı kazanan Balkan Devletleri, toprak paylaşımı konusunda birbirleriyle anlaşamadılar. Bulgaris- tan’a karşı diğer Balkan Devletleri tarafından kurulan ittifaktan faydalanan Osmanlı Devleti, saldırıya geçerek Edirne, Kırklareli ve Dimetoka’yı düşman işgalinden kurtardı. AVUSTURYA-MACARİSTAN RUSYA BOSNA-HERSEK A D R İ Y SIRBİSTAN ROMANYA İ T A L Y A T İ K D A E KARADAĞ BULGARİSTAN N İ Z İ OSMANLI DEVLETİ YUNANİSTAN K AKDENİZ KARADENİZ İstanbul OSMANLI DEVLETİ 0 100 200 300 Harita 1.2: Balkan Savaşları öncesi Osmanlı Devleti ve Balkan devletlerinin sınırları Mustafa Kemal Fransa’da Picardie (Pikardi) Manevraları’na katıldı. 1910 28 Arnavutluk İsyanı çıktı. 1910 XX. YÜZYIL BAŞLARINDA OSMANLI DEVLETİ VE DÜNYAXX. YÜZYIL BAŞLARINDA OSMANLI DEVLETİ VE DÜNYA II. Balkan Savaşı sonucunda Balkan Devletleri Bükreş Antlaşması (10 Ağus- tos 1913) ile Osmanlı Devleti’nden aldıkları yerleri aralarında paylaştılar. Os- manlı Devleti Bulgaristan ile İstanbul, Yunanistan ile Atina ve Sırbistan ile İstanbul antlaşmalarını imzaladı. Sonuç olarak Balkan devletlerinin sınırları değişti. Osmanlı Devleti Makedonya, Arnavutluk, Ege Adaları gibi Balkan topraklarının büyük bir kısmını kaybetti (Harita 1.3). AVUSTURYA-MACARİSTAN RUSYA BOSNA-HERSEK A D R İ Y SIRBİSTAN ROMANYA A T İ K KARADAĞ İ T A L Y A D E N İ Z İ K U L T U V A N R A YUNANİSTAN AKDENİZ K BULGARİSTAN KARADENİZ a ttı z H e n e - E y M i d OSMANLI DEVLETİ 0 100 200 300 Bilgi Notu Bilgi Notu İstanbul Antlaşması (29 Eylül 1913) (Osmanlı-Bulgaristan): İki devlet arasında Meriç Nehri sınıra esas kabul edildi. Böylece Edirne, Kırk- lareli ve Dimetoka Osmanlı Devle- ti’nde kaldı. Atina Antlaşması (14 Kasım 1913) (Osmanlı-Yunanistan): Taraflar, 30 Mayıs 1913 tarihli Londra Antlaş- ması’nın beşinci maddesi uyarınca, Ege Adaları’nın geleceğini Büyük Devletler’in kararına bıraktı. İstanbul Antlaşması (13 Mart 1913) (Osmanlı-Sırbistan): Osmanlı ile Sırbistan arasında ortak sınır kal- madı. Makedonya’nın Sırbistan’a bırakılan topraklarında kalan Müs- lüman ve Türk ahalinin hak ve hu- kuku ile ilgili anlaşmaya varıldı. Harita 1.3: Balkan Savaşları sonrası Osmanlı Devleti ve Balkan devletlerinin sınırları Düşün ve Tartış Balkan topraklarının kaybedilmesinin Osmanlı Devleti üzerindeki etkileri neler olmuştur? Tartışınız. Osmanlı Devleti’ni dağılmaktan kurtarmak ve eski görkemli günlerine geri döndürmek amacıyla çeşitli fikirler ortaya atılmıştır. Bu fikirlerin başlıcala- rı Osmanlıcılık, İslamcılık, Türkçülük ve Batıcılık olmuştur. Osmanlıcılık akımı; dil, din ve etnik farklılıkları gözetmeksizin devletin sınırları içerisin- de yaşayan bütün toplumları bir arada tutarak bir Osmanlı milleti yaratma amacını taşımaktaydı. Osmanlıcılık, Balkan milletlerinin isyan edip Osman- lı Devleti’nden ayrılmasıyla geçerliliğini yitirmiştir. Hangi milletten olursa olsun bütün Müslümanları halifenin etrafında toplamayı amaçlayan İslam- cılık fikri de Araplar gibi Müslüman milletlerin bağımsız devlet kurmak istemeleriyle önemini kaybetmiştir. Osmanlıcılık ve İslamcılık fikirlerinin devletin dağılmasını önlemek konusunda geçerliliğini yitirmesiyle Türkçü- lük fikri önem kazanmıştır. Bu akımın savunucuları, Türkleri millî bir duygu etrafında birleştirmeyi amaçlamıştır. Türkçülük fikri Millî Mücadele’nin ba- şarıya ulaşmasındaki en önemli faktörlerdendir. Batıcılık ise Batı’nın siyasi, sosyal, ekonomik, kültürel görüşlerine uygun bir devlet anlayışını savunur. Osmanlı Devleti’ni dağılmaktan kurtaramamıştır ama Batı’nın bilimsel ve teknik gelişmelerinin örnek alınması, Türkiye Cumhuriyeti’nin gelişmesin- de önemli bir etken olmuştur. Oku-yorum Sultan II. Abdülhamid’in Balkan Savaşı’nın kaybedilmesiyle ilgili değerlendirmesi: “Hem bari orduyu politikadan çekebilseydik… Hanedana karşı olanlar, hanedandan yana olanlar diye bölündü yeni baştan ordu, 93 Muharebesi’ni kaybettik. 93 Muharebesi’ni niçin kaybettiysek, Balkan Harbi’ni de onun için kay- bettik. Tarih değil, hatalar durma- dan tekerrür ediyor… Ordu, gayesi içinde elindeki kuv- veti kullanırsa meşru, gayesi dışı- na kayarsa gayri meşrudur. Belki bazı şeyleri yakar, yıkar ama so- nunda kendisi de yıkılır. Ve ma- alesef bu enkazın altında bazen bir devlet de çöker.” Özhan Eren, Sarıkamış’a Giden Yol, s. 183 (Kısal- tılmıştır.) Sizce Balkan Savaşları’nda yaşa- nan bu durum, daha sonra tekrar etmiş midir?',\n",
       " '“Affediniz, sizin yazdığınızı bilmiyordum. Yazmamış olmanızı temenni eder- dim. Cemal Bey, şu ve bu tarzda siz birtakım kimselere kendinizi beğen- dirmek hevesine düşmeyiniz. Bunun hiçbir kıymeti ve önemi yoktur. Siz içinde bulunduğumuz vaziyeti değerlendiriniz ve öncelikle kabul ediniz ki biraz fedakâr ve özverili olmak lazımdır. Eğer şunun bunun ilgisinden kuvvet almaya tenezzül ederseniz şu anki durumunuzu bilmem fakat geleceğiniz çürük olur. Çünkü bizim henüz gerçeklerle yüzleşmemiş geniş çevrelerimiz vardır. Bu çevrelerde hayallerle dolu kimseler çoktur. Büyüklük odur ki hiç kimseye iltifat etmeyeceksin, hiç kimseyi aldatmayacaksın, memleket için gerçek ülkü ne ise onu görecek, o hedefe yürüyeceksin, herkes senin aley- hinde bulunacaktır, herkes seni yolundan çevirmeye çalışacaktır. İşte sen bunda karşı koyuşları yok eden olacaksın. Önüne sayılamayacak güçlükler yığacaklardır, kendini büyük değil küçük, zayıf, araçsız, hiç sayarak, kimse- den yardım gelmeyeceğine inanarak bu güçlükleri aşacaksın. Ondan sonra sana büyüksün derlerse, bunu diyenlere de güleceksin. Görsel 1.9 Ziya Gökalp Görsel 1.11 Mehmet Emin Yurdakul Görsel 1.13 Montesquieu Görsel 1.10 Namık Kemal Görsel 1.12 J.J. Rousseau Görsel 1.14 Voltaire Girit Yunanistan’a bağlandı. 31 Mart Ayaklanması çıktı. 1908 1909 13 Nisan 25 1. Ünite1. Ünite 1.2. XX. YÜZYIL BAŞLARINDA OSMANLI DEVLETİ Görsel 1.15: Hürriyet, adalet, müsavat (eşitlik), uhuvvet (kardeşlik) başlıklı II. Meşrutiyet’in ilanı ile ilgili bir kartpostal Araştır Öğren Paylaş Bir ülkede siyasi düzenin değişmesi, halkın hayatında ne gibi deği- şimler meydana getirir? Tartışınız. 1. 2. 1. Siyasi Durum Osmanlı Devleti XIX. yüzyıldan itibaren Fransız İhtilali ve Sanayi İnkıla- bı’nın etkisiyle yaşanan gelişmeler karşısında çok zor durumda kalmıştır. Hem sömürgecilik rekabetinde olan Avrupalı devletlerin Osmanlı toprakları- nı işgale başlamaları hem de devletin sınırları içerisinde yer alan azınlıkların isyanları Osmanlı Devleti’nin toprak kayıplarını artırmıştır. II. Meşrutiyet’in İlanı: İttihat ve Terakki Cemiyeti, mason ve İtalyan Car- bonari (Karbonari) teşkilatlarını örnek alarak kurulan bir örgüttür. Mekteb-i Tıbbiye öğrencileri tarafından Yeni Osmanlılar çizgisinde çalışarak teşkilatla- nan cemiyet, daha sonra Mekteb-i Harbiye öğrencileri arasında yayıldı. Gizli faaliyet gösteren cemiyet üyeleri Sultan II.Abdülhamid’e karşıydı. Fransız İhtilali’nin düşüncelerini kendilerine örnek alan İttihat ve Terakki Cemiyeti- nin siyasal amacı Meşrutiyet’i ilan edip Mebusan Meclisinin açılmasını sağ- lamaktı. İngiltere ve Rusya’nın Reval’de bir araya gelerek Makedonya ve Boğazlar konusunda yaptıkları görüşmeler, İttihat ve Terakki Cemiyeti üyele- rini tedirgin etmişti. Devleti dağılmaktan kurtarmak için bir an önce Meşruti- yet’in ilan edilmesi gerektiğini düşünen cemiyet üyeleri ayaklandılar. İttihat ve Terakki Cemiyetinin faaliyetleri neticesinde Sultan II. Abdülhamit yeniden Meşrutiyet’i ilan etti (23 Temmuz 1908) ve Kanun-ı Esasi (1876 Anayasası) yeniden yürürlüğe girdi (Görsel 1.15). Bilgi Notu Bilgi Notu Trablusgarp: Kuzey Afrika’da bu- gün Libya adı verilen ülkededir. Dünya savaş tarihinde, savaş uçağı ilk kez 1911’de Trablusgarp Sava- şı’nda Osmanlı Devleti’ne karşı kul- lanılmıştır. Mustafa Kemal’in katıldığı ilk sa- vaştır. Mustafa Kemal, Hareket Ordusu’nda görev aldı. 1909 26 Hareket Ordusu İstanbul’a girdi. 1909 XX. YÜZYIL BAŞLARINDA OSMANLI DEVLETİ VE DÜNYAXX. YÜZYIL BAŞLARINDA OSMANLI DEVLETİ VE DÜNYA II. Meşrutiyet Dönemi’nde İttihat ve Terakki Cemiyeti dışında; Osmanlı Ah- rar Fırkası, İttihad-ı Muhammedi Fırkası, Fedakaran-ı Millet, Heyeti-i Müt- tefika-i Osmaniye Fırkası gibi birçok cemiyet kurularak ilk kez çok partili hayata da geçildi. Bulgaristan’ın bağımsız olması (1908), Bosna Hersek’in Avusturya tarafından işgal edilmesi (1908) ve Girit’in Yunanistan’a katılma- sıyla (1908) beraber yaşanan olumsuzluklar, iç politikadaki huzursuzluğu daha da artırdı. Meşrutiyet yönetimine karşı olanlar tarafından 31 Mart Ayak- lanması (13 Nisan 1909) çıkarıldı. Ayaklanma komutanlığını Mahmut Şevket Paşa’nın yaptığı kurmay başkanlığını Mustafa Kemal’in yaptığı Selanik’ten gelen Hareket Ordusu tarafından bastırıldı (Görsel 1.16). Bu olaydan sonra Sultan II. Abdülhamit tahttan indirildi ve yerine Sultan Mehmet Reşat (V. Mehmet) tahta çıkarıldı. 31 Mart Ayaklanması’nın bastırılmasından sonra İttihat ve Terakki Cemi- yetinin ülke yönetimindeki etkisi daha da arttı. Kanun-ı Esasi’de değişiklik yapılarak padişahın meclisi feshetmesi zorlaştırıldı, padişahın veto hakkı sı- nırlandırıldı ve hükûmet meclise karşı sorumlu hâle geldi. Bu değişikliklerle amaçlanan, anayasayı daha demokratik bir hâle getirmekti. Osmanlıcılık ve İslamcılık akımlarının sonuçsuz kaldığını gören İttihat ve Terakki Cemiyeti, Türkçülük politikasına ağırlık verdi. Trablusgarp Savaşı: 1870’de siyasi birliğini kuran İtalya, sömürgecilik re- kabetine katıldı. Fransa; Tunus, Cezayir ve Fas’ı; İngiltere ise Mısır’ı işgal etmişti. İtalya da Osmanlı Devleti’nin Kuzey Afrika’daki son toprağı olan Trablusgarp’a yöneldi ve Osmanlı Devleti’ne ültimatom vererek bu toprakla- rın kendisine teslim edilmesini istedi. Osmanlı Devleti bu isteği kabul etme- yince İtalya, Osmanlı’ya savaş ilan etti (1911) (Harita 1.1). Görsel 1.16: Mustafa Kemal, Hareket Ordusu’nda Hüseyin Hüsnü Paşa ile birlikte İT A L Y A BULGARİSTAN KARADENİZ RUSYA YUNANİSTAN OSMANLI DEVLETİ GİRİT AKDENİZ KIBRIS K Trablusgarp Derne Bingazi Tobruk MISIR 0 100 200 300 Osmanlı egemenliğindeki topraklar İtalya’nın saldırdığı bölgeler Harita 1.1: Trablusgarp Savaşı haritası Düşünelim Tartışalım Harita 1.1’den yola çıkarak Osmanlı Devleti’nin Trablusgarp’ı gerekti- ği gibi savunamamasının nedeni neler olabilir? Değerlendiriniz. Sultan II. Abdülhamit tahttan indirildi. 1909 Sultan V. Mehmet Reşat tahta çıktı. 1909 27 1. Ünite1. Ünite Osmanlı, bölgeye karadan ve denizden gereken yardımı gönderemedi. Mus- tafa Kemal, Enver Bey ve Fethi Bey gibi gönüllü subaylar, Trablusgarp’a giderek halkı örgütleyip İtalyanlara karşı başarılı bir şekilde mücadele ettiler. Mustafa Kemal, Derne ve Tobruk’ta; Enver Bey, Bingazi’de önemli başarılar kazandılar. İtalya, Osmanlı’yı zor durumda bırakmak için Çanakkale Boğazı’nı abluka altına aldı ve On İki Ada’yı işgal etti. I. Balkan Savaşı’nın başlaması üzerine Osmanlı Devleti barış istemek zorunda kaldı. İtalya ile Osmanlı Devleti ara- sında Ouchy (Uşi) Antlaşması imzalandı (18 Ekim 1912). Trablusgarp İtal- ya’ya bırakıldı. Böylece Osmanlı Devleti’nin Kuzey Afrika’daki varlığı sona erdi. On İki Ada da geçici olarak İtalya’ya bırakıldı. Vatan savunmasına ait görevlerden daha önemli ve yüce görev olamaz. Balkan Savaşları: Balkan Savaşları öncesi Batı Trakya, Makedonya, Arna- vutluk ve Doğu Trakya Osmanlı Devleti’nin egemenliğindeydi (Harita 1.2). Karadağ’ın saldırısıyla başlayan I. Balkan Savaşı’nda; Sırbistan, Bulgaristan ve Yunanistan’ın da savaşa katılmasıyla birlikte Osmanlı Devleti kısa süre- de yenilgiye uğradı. Bulgarlar, Kırklareli ve Edirne’yi işgal edip Çatalca’ya kadar ilerledi. Yunanlar, Selanik’i ele geçirip Ege Adaları’nı işgal etti. Sırp- lar, Üsküp ve arkasından Manastır’ı işgal etti. Karadağlılar, İşkodra’yı ele geçirdi. Bütün bu gelişmeler yaşanırken Arnavutluk bağımsızlığını ilan etti. Büyük devletlerin arabuluculuğu neticesinde yapılan Londra Antlaşması (30 Mayıs 1913) ile Osmanlı Devleti, Midye- Enez hattının batısında kalan top- raklarını kaybetti. Osmanlı Devleti karşısında büyük başarı kazanan Balkan Devletleri, toprak paylaşımı konusunda birbirleriyle anlaşamadılar. Bulgaris- tan’a karşı diğer Balkan Devletleri tarafından kurulan ittifaktan faydalanan Osmanlı Devleti, saldırıya geçerek Edirne, Kırklareli ve Dimetoka’yı düşman işgalinden kurtardı. AVUSTURYA-MACARİSTAN RUSYA BOSNA-HERSEK A D R İ Y SIRBİSTAN ROMANYA İ T A L Y A T İ K D A E KARADAĞ BULGARİSTAN N İ Z İ OSMANLI DEVLETİ YUNANİSTAN K AKDENİZ KARADENİZ İstanbul OSMANLI DEVLETİ 0 100 200 300 Harita 1.2: Balkan Savaşları öncesi Osmanlı Devleti ve Balkan devletlerinin sınırları Mustafa Kemal Fransa’da Picardie (Pikardi) Manevraları’na katıldı. 1910 28 Arnavutluk İsyanı çıktı. 1910 XX. YÜZYIL BAŞLARINDA OSMANLI DEVLETİ VE DÜNYAXX. YÜZYIL BAŞLARINDA OSMANLI DEVLETİ VE DÜNYA II. Balkan Savaşı sonucunda Balkan Devletleri Bükreş Antlaşması (10 Ağus- tos 1913) ile Osmanlı Devleti’nden aldıkları yerleri aralarında paylaştılar. Os- manlı Devleti Bulgaristan ile İstanbul, Yunanistan ile Atina ve Sırbistan ile İstanbul antlaşmalarını imzaladı. Sonuç olarak Balkan devletlerinin sınırları değişti. Osmanlı Devleti Makedonya, Arnavutluk, Ege Adaları gibi Balkan topraklarının büyük bir kısmını kaybetti (Harita 1.3). AVUSTURYA-MACARİSTAN RUSYA BOSNA-HERSEK A D R İ Y SIRBİSTAN ROMANYA A T İ K KARADAĞ İ T A L Y A D E N İ Z İ K U L T U V A N R A YUNANİSTAN AKDENİZ K BULGARİSTAN KARADENİZ a ttı z H e n e - E y M i d OSMANLI DEVLETİ 0 100 200 300 Bilgi Notu Bilgi Notu İstanbul Antlaşması (29 Eylül 1913) (Osmanlı-Bulgaristan): İki devlet arasında Meriç Nehri sınıra esas kabul edildi. Böylece Edirne, Kırk- lareli ve Dimetoka Osmanlı Devle- ti’nde kaldı. Atina Antlaşması (14 Kasım 1913) (Osmanlı-Yunanistan): Taraflar, 30 Mayıs 1913 tarihli Londra Antlaş- ması’nın beşinci maddesi uyarınca, Ege Adaları’nın geleceğini Büyük Devletler’in kararına bıraktı. İstanbul Antlaşması (13 Mart 1913) (Osmanlı-Sırbistan): Osmanlı ile Sırbistan arasında ortak sınır kal- madı. Makedonya’nın Sırbistan’a bırakılan topraklarında kalan Müs- lüman ve Türk ahalinin hak ve hu- kuku ile ilgili anlaşmaya varıldı. Harita 1.3: Balkan Savaşları sonrası Osmanlı Devleti ve Balkan devletlerinin sınırları Düşün ve Tartış Balkan topraklarının kaybedilmesinin Osmanlı Devleti üzerindeki etkileri neler olmuştur? Tartışınız. Osmanlı Devleti’ni dağılmaktan kurtarmak ve eski görkemli günlerine geri döndürmek amacıyla çeşitli fikirler ortaya atılmıştır. Bu fikirlerin başlıcala- rı Osmanlıcılık, İslamcılık, Türkçülük ve Batıcılık olmuştur. Osmanlıcılık akımı; dil, din ve etnik farklılıkları gözetmeksizin devletin sınırları içerisin- de yaşayan bütün toplumları bir arada tutarak bir Osmanlı milleti yaratma amacını taşımaktaydı. Osmanlıcılık, Balkan milletlerinin isyan edip Osman- lı Devleti’nden ayrılmasıyla geçerliliğini yitirmiştir. Hangi milletten olursa olsun bütün Müslümanları halifenin etrafında toplamayı amaçlayan İslam- cılık fikri de Araplar gibi Müslüman milletlerin bağımsız devlet kurmak istemeleriyle önemini kaybetmiştir. Osmanlıcılık ve İslamcılık fikirlerinin devletin dağılmasını önlemek konusunda geçerliliğini yitirmesiyle Türkçü- lük fikri önem kazanmıştır. Bu akımın savunucuları, Türkleri millî bir duygu etrafında birleştirmeyi amaçlamıştır. Türkçülük fikri Millî Mücadele’nin ba- şarıya ulaşmasındaki en önemli faktörlerdendir. Batıcılık ise Batı’nın siyasi, sosyal, ekonomik, kültürel görüşlerine uygun bir devlet anlayışını savunur. Osmanlı Devleti’ni dağılmaktan kurtaramamıştır ama Batı’nın bilimsel ve teknik gelişmelerinin örnek alınması, Türkiye Cumhuriyeti’nin gelişmesin- de önemli bir etken olmuştur. Oku-yorum Sultan II. Abdülhamid’in Balkan Savaşı’nın kaybedilmesiyle ilgili değerlendirmesi: “Hem bari orduyu politikadan çekebilseydik… Hanedana karşı olanlar, hanedandan yana olanlar diye bölündü yeni baştan ordu, 93 Muharebesi’ni kaybettik. 93 Muharebesi’ni niçin kaybettiysek, Balkan Harbi’ni de onun için kay- bettik. Tarih değil, hatalar durma- dan tekerrür ediyor… Ordu, gayesi içinde elindeki kuv- veti kullanırsa meşru, gayesi dışı- na kayarsa gayri meşrudur. Belki bazı şeyleri yakar, yıkar ama so- nunda kendisi de yıkılır. Ve ma- alesef bu enkazın altında bazen bir devlet de çöker.” Özhan Eren, Sarıkamış’a Giden Yol, s. 183 (Kısal- tılmıştır.) Sizce Balkan Savaşları’nda yaşa- nan bu durum, daha sonra tekrar etmiş midir?',\n",
       " '“Affediniz, sizin yazdığınızı bilmiyordum. Yazmamış olmanızı temenni eder- dim. Cemal Bey, şu ve bu tarzda siz birtakım kimselere kendinizi beğen- dirmek hevesine düşmeyiniz. Bunun hiçbir kıymeti ve önemi yoktur. Siz içinde bulunduğumuz vaziyeti değerlendiriniz ve öncelikle kabul ediniz ki biraz fedakâr ve özverili olmak lazımdır. Eğer şunun bunun ilgisinden kuvvet almaya tenezzül ederseniz şu anki durumunuzu bilmem fakat geleceğiniz çürük olur. Çünkü bizim henüz gerçeklerle yüzleşmemiş geniş çevrelerimiz vardır. Bu çevrelerde hayallerle dolu kimseler çoktur. Büyüklük odur ki hiç kimseye iltifat etmeyeceksin, hiç kimseyi aldatmayacaksın, memleket için gerçek ülkü ne ise onu görecek, o hedefe yürüyeceksin, herkes senin aley- hinde bulunacaktır, herkes seni yolundan çevirmeye çalışacaktır. İşte sen bunda karşı koyuşları yok eden olacaksın. Önüne sayılamayacak güçlükler yığacaklardır, kendini büyük değil küçük, zayıf, araçsız, hiç sayarak, kimse- den yardım gelmeyeceğine inanarak bu güçlükleri aşacaksın. Ondan sonra sana büyüksün derlerse, bunu diyenlere de güleceksin. Görsel 1.9 Ziya Gökalp Görsel 1.11 Mehmet Emin Yurdakul Görsel 1.13 Montesquieu Görsel 1.10 Namık Kemal Görsel 1.12 J.J. Rousseau Görsel 1.14 Voltaire Girit Yunanistan’a bağlandı. 31 Mart Ayaklanması çıktı. 1908 1909 13 Nisan 25 1. Ünite1. Ünite 1.2. XX. YÜZYIL BAŞLARINDA OSMANLI DEVLETİ Görsel 1.15: Hürriyet, adalet, müsavat (eşitlik), uhuvvet (kardeşlik) başlıklı II. Meşrutiyet’in ilanı ile ilgili bir kartpostal Araştır Öğren Paylaş Bir ülkede siyasi düzenin değişmesi, halkın hayatında ne gibi deği- şimler meydana getirir? Tartışınız. 1. 2. 1. Siyasi Durum Osmanlı Devleti XIX. yüzyıldan itibaren Fransız İhtilali ve Sanayi İnkıla- bı’nın etkisiyle yaşanan gelişmeler karşısında çok zor durumda kalmıştır. Hem sömürgecilik rekabetinde olan Avrupalı devletlerin Osmanlı toprakları- nı işgale başlamaları hem de devletin sınırları içerisinde yer alan azınlıkların isyanları Osmanlı Devleti’nin toprak kayıplarını artırmıştır. II. Meşrutiyet’in İlanı: İttihat ve Terakki Cemiyeti, mason ve İtalyan Car- bonari (Karbonari) teşkilatlarını örnek alarak kurulan bir örgüttür. Mekteb-i Tıbbiye öğrencileri tarafından Yeni Osmanlılar çizgisinde çalışarak teşkilatla- nan cemiyet, daha sonra Mekteb-i Harbiye öğrencileri arasında yayıldı. Gizli faaliyet gösteren cemiyet üyeleri Sultan II.Abdülhamid’e karşıydı. Fransız İhtilali’nin düşüncelerini kendilerine örnek alan İttihat ve Terakki Cemiyeti- nin siyasal amacı Meşrutiyet’i ilan edip Mebusan Meclisinin açılmasını sağ- lamaktı. İngiltere ve Rusya’nın Reval’de bir araya gelerek Makedonya ve Boğazlar konusunda yaptıkları görüşmeler, İttihat ve Terakki Cemiyeti üyele- rini tedirgin etmişti. Devleti dağılmaktan kurtarmak için bir an önce Meşruti- yet’in ilan edilmesi gerektiğini düşünen cemiyet üyeleri ayaklandılar. İttihat ve Terakki Cemiyetinin faaliyetleri neticesinde Sultan II. Abdülhamit yeniden Meşrutiyet’i ilan etti (23 Temmuz 1908) ve Kanun-ı Esasi (1876 Anayasası) yeniden yürürlüğe girdi (Görsel 1.15). Bilgi Notu Bilgi Notu Trablusgarp: Kuzey Afrika’da bu- gün Libya adı verilen ülkededir. Dünya savaş tarihinde, savaş uçağı ilk kez 1911’de Trablusgarp Sava- şı’nda Osmanlı Devleti’ne karşı kul- lanılmıştır. Mustafa Kemal’in katıldığı ilk sa- vaştır. Mustafa Kemal, Hareket Ordusu’nda görev aldı. 1909 26 Hareket Ordusu İstanbul’a girdi. 1909 XX. YÜZYIL BAŞLARINDA OSMANLI DEVLETİ VE DÜNYAXX. YÜZYIL BAŞLARINDA OSMANLI DEVLETİ VE DÜNYA II. Meşrutiyet Dönemi’nde İttihat ve Terakki Cemiyeti dışında; Osmanlı Ah- rar Fırkası, İttihad-ı Muhammedi Fırkası, Fedakaran-ı Millet, Heyeti-i Müt- tefika-i Osmaniye Fırkası gibi birçok cemiyet kurularak ilk kez çok partili hayata da geçildi. Bulgaristan’ın bağımsız olması (1908), Bosna Hersek’in Avusturya tarafından işgal edilmesi (1908) ve Girit’in Yunanistan’a katılma- sıyla (1908) beraber yaşanan olumsuzluklar, iç politikadaki huzursuzluğu daha da artırdı. Meşrutiyet yönetimine karşı olanlar tarafından 31 Mart Ayak- lanması (13 Nisan 1909) çıkarıldı. Ayaklanma komutanlığını Mahmut Şevket Paşa’nın yaptığı kurmay başkanlığını Mustafa Kemal’in yaptığı Selanik’ten gelen Hareket Ordusu tarafından bastırıldı (Görsel 1.16). Bu olaydan sonra Sultan II. Abdülhamit tahttan indirildi ve yerine Sultan Mehmet Reşat (V. Mehmet) tahta çıkarıldı. 31 Mart Ayaklanması’nın bastırılmasından sonra İttihat ve Terakki Cemi- yetinin ülke yönetimindeki etkisi daha da arttı. Kanun-ı Esasi’de değişiklik yapılarak padişahın meclisi feshetmesi zorlaştırıldı, padişahın veto hakkı sı- nırlandırıldı ve hükûmet meclise karşı sorumlu hâle geldi. Bu değişikliklerle amaçlanan, anayasayı daha demokratik bir hâle getirmekti. Osmanlıcılık ve İslamcılık akımlarının sonuçsuz kaldığını gören İttihat ve Terakki Cemiyeti, Türkçülük politikasına ağırlık verdi. Trablusgarp Savaşı: 1870’de siyasi birliğini kuran İtalya, sömürgecilik re- kabetine katıldı. Fransa; Tunus, Cezayir ve Fas’ı; İngiltere ise Mısır’ı işgal etmişti. İtalya da Osmanlı Devleti’nin Kuzey Afrika’daki son toprağı olan Trablusgarp’a yöneldi ve Osmanlı Devleti’ne ültimatom vererek bu toprakla- rın kendisine teslim edilmesini istedi. Osmanlı Devleti bu isteği kabul etme- yince İtalya, Osmanlı’ya savaş ilan etti (1911) (Harita 1.1). Görsel 1.16: Mustafa Kemal, Hareket Ordusu’nda Hüseyin Hüsnü Paşa ile birlikte İT A L Y A BULGARİSTAN KARADENİZ RUSYA YUNANİSTAN OSMANLI DEVLETİ GİRİT AKDENİZ KIBRIS K Trablusgarp Derne Bingazi Tobruk MISIR 0 100 200 300 Osmanlı egemenliğindeki topraklar İtalya’nın saldırdığı bölgeler Harita 1.1: Trablusgarp Savaşı haritası Düşünelim Tartışalım Harita 1.1’den yola çıkarak Osmanlı Devleti’nin Trablusgarp’ı gerekti- ği gibi savunamamasının nedeni neler olabilir? Değerlendiriniz. Sultan II. Abdülhamit tahttan indirildi. 1909 Sultan V. Mehmet Reşat tahta çıktı. 1909 27 1. Ünite1. Ünite Osmanlı, bölgeye karadan ve denizden gereken yardımı gönderemedi. Mus- tafa Kemal, Enver Bey ve Fethi Bey gibi gönüllü subaylar, Trablusgarp’a giderek halkı örgütleyip İtalyanlara karşı başarılı bir şekilde mücadele ettiler. Mustafa Kemal, Derne ve Tobruk’ta; Enver Bey, Bingazi’de önemli başarılar kazandılar. İtalya, Osmanlı’yı zor durumda bırakmak için Çanakkale Boğazı’nı abluka altına aldı ve On İki Ada’yı işgal etti. I. Balkan Savaşı’nın başlaması üzerine Osmanlı Devleti barış istemek zorunda kaldı. İtalya ile Osmanlı Devleti ara- sında Ouchy (Uşi) Antlaşması imzalandı (18 Ekim 1912). Trablusgarp İtal- ya’ya bırakıldı. Böylece Osmanlı Devleti’nin Kuzey Afrika’daki varlığı sona erdi. On İki Ada da geçici olarak İtalya’ya bırakıldı. Vatan savunmasına ait görevlerden daha önemli ve yüce görev olamaz. Balkan Savaşları: Balkan Savaşları öncesi Batı Trakya, Makedonya, Arna- vutluk ve Doğu Trakya Osmanlı Devleti’nin egemenliğindeydi (Harita 1.2). Karadağ’ın saldırısıyla başlayan I. Balkan Savaşı’nda; Sırbistan, Bulgaristan ve Yunanistan’ın da savaşa katılmasıyla birlikte Osmanlı Devleti kısa süre- de yenilgiye uğradı. Bulgarlar, Kırklareli ve Edirne’yi işgal edip Çatalca’ya kadar ilerledi. Yunanlar, Selanik’i ele geçirip Ege Adaları’nı işgal etti. Sırp- lar, Üsküp ve arkasından Manastır’ı işgal etti. Karadağlılar, İşkodra’yı ele geçirdi. Bütün bu gelişmeler yaşanırken Arnavutluk bağımsızlığını ilan etti. Büyük devletlerin arabuluculuğu neticesinde yapılan Londra Antlaşması (30 Mayıs 1913) ile Osmanlı Devleti, Midye- Enez hattının batısında kalan top- raklarını kaybetti. Osmanlı Devleti karşısında büyük başarı kazanan Balkan Devletleri, toprak paylaşımı konusunda birbirleriyle anlaşamadılar. Bulgaris- tan’a karşı diğer Balkan Devletleri tarafından kurulan ittifaktan faydalanan Osmanlı Devleti, saldırıya geçerek Edirne, Kırklareli ve Dimetoka’yı düşman işgalinden kurtardı. AVUSTURYA-MACARİSTAN RUSYA BOSNA-HERSEK A D R İ Y SIRBİSTAN ROMANYA İ T A L Y A T İ K D A E KARADAĞ BULGARİSTAN N İ Z İ OSMANLI DEVLETİ YUNANİSTAN K AKDENİZ KARADENİZ İstanbul OSMANLI DEVLETİ 0 100 200 300 Harita 1.2: Balkan Savaşları öncesi Osmanlı Devleti ve Balkan devletlerinin sınırları Mustafa Kemal Fransa’da Picardie (Pikardi) Manevraları’na katıldı. 1910 28 Arnavutluk İsyanı çıktı. 1910 XX. YÜZYIL BAŞLARINDA OSMANLI DEVLETİ VE DÜNYAXX. YÜZYIL BAŞLARINDA OSMANLI DEVLETİ VE DÜNYA II. Balkan Savaşı sonucunda Balkan Devletleri Bükreş Antlaşması (10 Ağus- tos 1913) ile Osmanlı Devleti’nden aldıkları yerleri aralarında paylaştılar. Os- manlı Devleti Bulgaristan ile İstanbul, Yunanistan ile Atina ve Sırbistan ile İstanbul antlaşmalarını imzaladı. Sonuç olarak Balkan devletlerinin sınırları değişti. Osmanlı Devleti Makedonya, Arnavutluk, Ege Adaları gibi Balkan topraklarının büyük bir kısmını kaybetti (Harita 1.3). AVUSTURYA-MACARİSTAN RUSYA BOSNA-HERSEK A D R İ Y SIRBİSTAN ROMANYA A T İ K KARADAĞ İ T A L Y A D E N İ Z İ K U L T U V A N R A YUNANİSTAN AKDENİZ K BULGARİSTAN KARADENİZ a ttı z H e n e - E y M i d OSMANLI DEVLETİ 0 100 200 300 Bilgi Notu Bilgi Notu İstanbul Antlaşması (29 Eylül 1913) (Osmanlı-Bulgaristan): İki devlet arasında Meriç Nehri sınıra esas kabul edildi. Böylece Edirne, Kırk- lareli ve Dimetoka Osmanlı Devle- ti’nde kaldı. Atina Antlaşması (14 Kasım 1913) (Osmanlı-Yunanistan): Taraflar, 30 Mayıs 1913 tarihli Londra Antlaş- ması’nın beşinci maddesi uyarınca, Ege Adaları’nın geleceğini Büyük Devletler’in kararına bıraktı. İstanbul Antlaşması (13 Mart 1913) (Osmanlı-Sırbistan): Osmanlı ile Sırbistan arasında ortak sınır kal- madı. Makedonya’nın Sırbistan’a bırakılan topraklarında kalan Müs- lüman ve Türk ahalinin hak ve hu- kuku ile ilgili anlaşmaya varıldı. Harita 1.3: Balkan Savaşları sonrası Osmanlı Devleti ve Balkan devletlerinin sınırları Düşün ve Tartış Balkan topraklarının kaybedilmesinin Osmanlı Devleti üzerindeki etkileri neler olmuştur? Tartışınız. Osmanlı Devleti’ni dağılmaktan kurtarmak ve eski görkemli günlerine geri döndürmek amacıyla çeşitli fikirler ortaya atılmıştır. Bu fikirlerin başlıcala- rı Osmanlıcılık, İslamcılık, Türkçülük ve Batıcılık olmuştur. Osmanlıcılık akımı; dil, din ve etnik farklılıkları gözetmeksizin devletin sınırları içerisin- de yaşayan bütün toplumları bir arada tutarak bir Osmanlı milleti yaratma amacını taşımaktaydı. Osmanlıcılık, Balkan milletlerinin isyan edip Osman- lı Devleti’nden ayrılmasıyla geçerliliğini yitirmiştir. Hangi milletten olursa olsun bütün Müslümanları halifenin etrafında toplamayı amaçlayan İslam- cılık fikri de Araplar gibi Müslüman milletlerin bağımsız devlet kurmak istemeleriyle önemini kaybetmiştir. Osmanlıcılık ve İslamcılık fikirlerinin devletin dağılmasını önlemek konusunda geçerliliğini yitirmesiyle Türkçü- lük fikri önem kazanmıştır. Bu akımın savunucuları, Türkleri millî bir duygu etrafında birleştirmeyi amaçlamıştır. Türkçülük fikri Millî Mücadele’nin ba- şarıya ulaşmasındaki en önemli faktörlerdendir. Batıcılık ise Batı’nın siyasi, sosyal, ekonomik, kültürel görüşlerine uygun bir devlet anlayışını savunur. Osmanlı Devleti’ni dağılmaktan kurtaramamıştır ama Batı’nın bilimsel ve teknik gelişmelerinin örnek alınması, Türkiye Cumhuriyeti’nin gelişmesin- de önemli bir etken olmuştur. Oku-yorum Sultan II. Abdülhamid’in Balkan Savaşı’nın kaybedilmesiyle ilgili değerlendirmesi: “Hem bari orduyu politikadan çekebilseydik… Hanedana karşı olanlar, hanedandan yana olanlar diye bölündü yeni baştan ordu, 93 Muharebesi’ni kaybettik. 93 Muharebesi’ni niçin kaybettiysek, Balkan Harbi’ni de onun için kay- bettik. Tarih değil, hatalar durma- dan tekerrür ediyor… Ordu, gayesi içinde elindeki kuv- veti kullanırsa meşru, gayesi dışı- na kayarsa gayri meşrudur. Belki bazı şeyleri yakar, yıkar ama so- nunda kendisi de yıkılır. Ve ma- alesef bu enkazın altında bazen bir devlet de çöker.” Özhan Eren, Sarıkamış’a Giden Yol, s. 183 (Kısal- tılmıştır.) Sizce Balkan Savaşları’nda yaşa- nan bu durum, daha sonra tekrar etmiş midir?']"
      ]
     },
     "execution_count": 11,
     "metadata": {},
     "output_type": "execute_result"
    }
   ],
   "source": [
    "txt12_minority_sentences[:10]"
   ]
  },
  {
   "cell_type": "code",
   "execution_count": 15,
   "id": "f0969538",
   "metadata": {},
   "outputs": [],
   "source": [
    "def line_break_remover(text):\n",
    "    processed_text = []\n",
    "    for sent in text:\n",
    "        words = sent.split()\n",
    "        for w in words:\n",
    "            if w.endswith(\"-\"):\n",
    "                ix = words.index(w)\n",
    "                combined = (w + words[ix+1]).replace(\"-\", \"\")\n",
    "                processed_text.append(combined)\n",
    "                words.pop(ix+1)\n",
    "            else:\n",
    "                processed_text.append(w)\n",
    "                \n",
    "    return processed_text"
   ]
  },
  {
   "cell_type": "code",
   "execution_count": 16,
   "id": "6e606a18",
   "metadata": {
    "scrolled": false
   },
   "outputs": [],
   "source": [
    "txt9_minority_sentences = \" \".join(line_break_remover(txt9_minority_sentences))\n",
    "txt10_minority_sentences = \" \".join(line_break_remover(txt10_minority_sentences))\n",
    "txt11_minority_sentences = \" \".join(line_break_remover(txt11_minority_sentences))\n",
    "txt12_minority_sentences = \" \".join(line_break_remover(txt12_minority_sentences))"
   ]
  },
  {
   "cell_type": "code",
   "execution_count": 17,
   "id": "23fbf3f6",
   "metadata": {},
   "outputs": [],
   "source": [
    "txt9_minority_sentences = caller.call('sentencesplitter', txt9_minority_sentences, 'luUiBPs1DC9iAxrWlFLRDDN8atWtGGL7').splitlines()\n",
    "txt10_minority_sentences = caller.call('sentencesplitter', txt10_minority_sentences, 'luUiBPs1DC9iAxrWlFLRDDN8atWtGGL7').splitlines()\n",
    "txt11_minority_sentences = caller.call('sentencesplitter', txt11_minority_sentences, 'luUiBPs1DC9iAxrWlFLRDDN8atWtGGL7').splitlines()\n",
    "txt12_minority_sentences = caller.call('sentencesplitter', txt12_minority_sentences, 'luUiBPs1DC9iAxrWlFLRDDN8atWtGGL7').splitlines()"
   ]
  },
  {
   "cell_type": "code",
   "execution_count": 18,
   "id": "787ef2e6",
   "metadata": {
    "scrolled": false
   },
   "outputs": [
    {
     "name": "stdout",
     "output_type": "stream",
     "text": [
      "9th Grade Textbook Minority Sentence Counts: 1 \n",
      " 10th Grade Textbook Minority Sentence Counts: 1 \n",
      " 11th Grade Textbook Minority Sentence Counts: 1 \n",
      " 12th Grade Textbook Minority Sentence Counts: 1\n"
     ]
    }
   ],
   "source": [
    "print(\"9th Grade Textbook Minority Sentence Counts:\", len(txt9_minority_sentences), \"\\n\", \\\n",
    "      \"10th Grade Textbook Minority Sentence Counts:\", len(txt10_minority_sentences), \"\\n\", \\\n",
    "      \"11th Grade Textbook Minority Sentence Counts:\", len(txt11_minority_sentences), \"\\n\",\\\n",
    "      \"12th Grade Textbook Minority Sentence Counts:\", len(txt12_minority_sentences))"
   ]
  },
  {
   "cell_type": "code",
   "execution_count": null,
   "id": "122a841a",
   "metadata": {},
   "outputs": [],
   "source": [
    "#Writing minority sentences to txt files to use in other sentiment analysis approaches\n",
    "\n",
    "with open('9thgrade_sentences.txt', 'w', encoding = 'utf-8') as f1:\n",
    "    for sent in txt9_minority_sentences:\n",
    "        f1.write(\"%s\\n\" % sent)\n",
    "        \n",
    "with open('10thgrade_sentences.txt', 'w', encoding = \"utf-8\") as f2:\n",
    "    for sent in txt10_minority_sentences:\n",
    "        f2.write(\"%s\\n\" % sent)\n",
    "        \n",
    "with open('11thgrade_sentences.txt', 'w', encoding = \"utf-8\") as f3:\n",
    "    for sent in txt11_minority_sentences:\n",
    "        f3.write(\"%s\\n\" % sent)\n",
    "        \n",
    "with open('12thgrade_sentences.txt', 'w', encoding = \"utf-8\") as f4:\n",
    "    for sent in txt12_minority_sentences:\n",
    "        f4.write(\"%s\\n\" % sent)"
   ]
  }
 ],
 "metadata": {
  "kernelspec": {
   "display_name": "Python 3 (ipykernel)",
   "language": "python",
   "name": "python3"
  },
  "language_info": {
   "codemirror_mode": {
    "name": "ipython",
    "version": 3
   },
   "file_extension": ".py",
   "mimetype": "text/x-python",
   "name": "python",
   "nbconvert_exporter": "python",
   "pygments_lexer": "ipython3",
   "version": "3.8.12"
  }
 },
 "nbformat": 4,
 "nbformat_minor": 5
}
