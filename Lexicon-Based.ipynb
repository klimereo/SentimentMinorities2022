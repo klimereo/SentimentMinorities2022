{
 "cells": [
  {
   "cell_type": "code",
   "execution_count": 103,
   "id": "6cb10eda",
   "metadata": {},
   "outputs": [],
   "source": [
    "import re\n",
    "from nltk.text import Text\n",
    "import numpy as np\n",
    "from trtokenizer.tr_tokenizer import SentenceTokenizer, WordTokenizer"
   ]
  },
  {
   "cell_type": "code",
   "execution_count": 2,
   "id": "8aec0759",
   "metadata": {},
   "outputs": [],
   "source": [
    "sent_tok = SentenceTokenizer()\n",
    "word_tok = WordTokenizer()"
   ]
  },
  {
   "cell_type": "code",
   "execution_count": 2,
   "id": "d072e6bd",
   "metadata": {},
   "outputs": [],
   "source": [
    "with open('9thgrade_sentences.txt', 'r', encoding = 'utf-8') as f1:\n",
    "    lines = f1.readlines()\n",
    "    minority_9 = [line.rstrip() for line in lines]\n",
    "        \n",
    "with open('10thgrade_sentences.txt', 'r', encoding = \"utf-8\") as f2:\n",
    "    lines = f2.readlines()\n",
    "    minority_10 = [line.rstrip() for line in lines]\n",
    "        \n",
    "with open('11thgrade_sentences.txt', 'r', encoding = \"utf-8\") as f3:\n",
    "    lines = f3.readlines()\n",
    "    minority_11 = [line.rstrip() for line in lines]\n",
    "        \n",
    "with open('12thgrade_sentences.txt', 'r', encoding = \"utf-8\") as f4:\n",
    "    lines = f4.readlines()\n",
    "    minority_12 = [line.rstrip() for line in lines]"
   ]
  },
  {
   "cell_type": "code",
   "execution_count": 12,
   "id": "0873837d",
   "metadata": {},
   "outputs": [],
   "source": [
    "import zeyrek\n",
    "analyzer = zeyrek.MorphAnalyzer()\n",
    "\n",
    "def lemmatize_text(text):\n",
    "    \n",
    "    lemmatized_words = []\n",
    "    \n",
    "    for sent in text:\n",
    "        for item in analyzer.lemmatize(sent):\n",
    "            if item[0].istitle():\n",
    "                lemmatized_words.append(item[1][0].title())\n",
    "            else:\n",
    "                lemmatized_words.append(item[1][0])\n",
    "    \n",
    "    sentences_stemmed = list(sent_tok.tokenize(\" \".join(lemmatized_words)))\n",
    "    return sentences_stemmed"
   ]
  },
  {
   "cell_type": "code",
   "execution_count": 13,
   "id": "fd9e12be",
   "metadata": {},
   "outputs": [],
   "source": [
    "txt9_minority_lemmatized = lemmatize_text(minority_9)\n",
    "txt10_minority_lemmatized = lemmatize_text(minority_10)\n",
    "txt11_minority_lemmatized = lemmatize_text(minority_11)\n",
    "txt12_minority_lemmatized = lemmatize_text(minority_12)"
   ]
  },
  {
   "cell_type": "code",
   "execution_count": 14,
   "id": "5cf3e190",
   "metadata": {
    "scrolled": false
   },
   "outputs": [
    {
     "name": "stdout",
     "output_type": "stream",
     "text": [
      "['Batı dil karşı Yunan “ istoria ” dan türemek Historia ve historiedir .', 'Bu bilim insan bazı bu yazı ; Prusya , Iskitler , Yunan ve Latin ait olmak ileri sürmek .', 'Sümer , Babil , Mısır , Yunan , İbranî , Roma , Aztek , Mayalamak , Çin , Hint , Tibet , Türk ve Arap gibi çok çeşitli millet ve topluluk değişik takvim meydan getirmek .']\n",
      "-------------------------------------------------------------------\n",
      "['Bu Döne Anadolu ; Rum ve Ermeni birlik Süryanî , Arap ve Türk bulmak .', 'Bu Döne Anadolu ; Rum ve Ermeni birlik Süryanî , Arap ve Türk bulmak .', 'Özellikle mezhep fark dolay Bizans tarafından büyük baskı ve işkence maruz Kalan Ermeni , Türk akın hiç diremek göstermek .']\n",
      "-------------------------------------------------------------------\n",
      "['Osmanlı As bütün Hristiyan dünya hedeflemek söylemek papa , Avrupa devlet kutsal bir Çat altı toplamak amaçlamak ve bu da başarı olmak .', 'Merkez yönetim ve ordu yapmak düzenlemek yan sır Ülke iç Hristiyan Yaşam koşul iyi iç büyük Çaba harcamak , aymak Güç engellemek .', 'Bu yüzyıl güç kaybetmek Venedik , kendi iç asılmak tehlike Osmanlı Devlet değmek Hristiyan alem olmak düşünmek .']\n",
      "-------------------------------------------------------------------\n",
      "['Meşrutiyet yönetim karşı olanlar tarafından 31 Mart Ayaklanmak ( 13 Nisa 1909 ) çıkarıldı .', 'Ayaklanmak komutan Mahmut Şevket Paşa yapmak kurmay başkan Mustafa Kemal yapmak Selanik gelen Hareket Ordu tarafından basmak ( Görsel 1.16 ) .', 'Bu olay sonra Sultan II .', 'Abdülhamit taht indirmek ve yerine Sultan Mehmet Reşat ( V. Mehmet ) taht çıkarıldı .', '31 Mart Ayaklanmak basmak sonra Ittihat ve Terakki Cemiyet Ülke yönetim etki daha da artmak .', 'Kanun-ı Esasi değişik yapılarak padişah meclis feshetmek zor , padişah veto Hak sınır ve hükûmet meclis karşı sorumlu hale gelmek .', 'Bu değişik amaçlamak , anayasa daha demokratik bir hale getirmekti .', 'Osmanlıcılık ve İslam akım sonuç kalmak gören Ittihat ve Terakki Cemiyet , Türk politika ağır vermek .', 'Trablusgarp Savaş : 1870de siyasî bir Kuran İtalya , sömürge rekabet katmak .', 'Fransa ; Tunus , Cezayir ve Fas ; İngiltere ise Mısır işgal etmek .']\n",
      "-------------------------------------------------------------------\n"
     ]
    }
   ],
   "source": [
    "print(txt9_minority_lemmatized[:3])\n",
    "print(\"-------------------------------------------------------------------\")\n",
    "print(txt10_minority_lemmatized[:3])\n",
    "print(\"-------------------------------------------------------------------\")\n",
    "print(txt11_minority_lemmatized[:3])\n",
    "print(\"-------------------------------------------------------------------\")\n",
    "print(txt12_minority_lemmatized[50:60])\n",
    "print(\"-------------------------------------------------------------------\")"
   ]
  },
  {
   "cell_type": "code",
   "execution_count": 15,
   "id": "276097c7",
   "metadata": {},
   "outputs": [],
   "source": [
    "#Writing lemmatized minority sentences to txt files to use in other sentiment analysis approaches\n",
    "\n",
    "with open('9thgrade_sentences_lemmatized.txt', 'w', encoding = 'utf-8') as f1:\n",
    "    for sent in txt9_minority_lemmatized:\n",
    "        f1.write(\"%s\\n\" % sent)\n",
    "        \n",
    "with open('10thgrade_sentences_lemmatized.txt', 'w', encoding = \"utf-8\") as f2:\n",
    "    for sent in txt10_minority_lemmatized:\n",
    "        f2.write(\"%s\\n\" % sent)\n",
    "        \n",
    "with open('11thgrade_sentences_lemmatized.txt', 'w', encoding = \"utf-8\") as f3:\n",
    "    for sent in txt11_minority_lemmatized:\n",
    "        f3.write(\"%s\\n\" % sent)\n",
    "        \n",
    "with open('12thgrade_sentences_lemmatized.txt', 'w', encoding = \"utf-8\") as f4:\n",
    "    for sent in txt12_minority_lemmatized:\n",
    "        f4.write(\"%s\\n\" % sent)"
   ]
  },
  {
   "cell_type": "markdown",
   "id": "eb420afb",
   "metadata": {},
   "source": [
    "## Running the Sentiment Lexicon Based Analysis\n",
    "\n",
    "The following blocks of codes will analyse the lemmatized sentences based on SentiTurkNet Sentiment Lexicon. The approach does not merely count the number of negative or positive words in a sentence but computes an overall probability based on each word's entry."
   ]
  },
  {
   "cell_type": "code",
   "execution_count": 16,
   "id": "5dddf440",
   "metadata": {},
   "outputs": [],
   "source": [
    "import pandas as pd\n",
    "\n",
    "sent_lexicon = pd.read_excel('STN.xlsx')"
   ]
  },
  {
   "cell_type": "code",
   "execution_count": 17,
   "id": "e3063210",
   "metadata": {},
   "outputs": [
    {
     "name": "stdout",
     "output_type": "stream",
     "text": [
      "       synonyms                                  Turkish Gloss Polarity Label  \\\n",
      "0   ayva reçeli  Meyveleri şekerle kaynatarak hazırlanan tatlı              o   \n",
      "1    gül reçeli  Meyveleri şekerle kaynatarak hazırlanan tatlı              o   \n",
      "2  incir reçeli  Meyveleri şekerle kaynatarak hazırlanan tatlı              o   \n",
      "3         iştah                             Yemek yeme isteği.              o   \n",
      "4       iştahlı                           İştahı olan, boğazlı              p   \n",
      "\n",
      "  POS tag  neg value  obj value  pos value Eng Synonyms  \\\n",
      "0       n       0.06      0.872      0.068        jam#1   \n",
      "1       n       0.06      0.872      0.068        jam#1   \n",
      "2       n       0.06      0.872      0.068        jam#1   \n",
      "3       n       0.06      0.872      0.068          NaN   \n",
      "4       a       0.06      0.462      0.478          NaN   \n",
      "\n",
      "               English Gloss  SWNpos  SWNneg  \n",
      "0  preserve of crushed fruit     0.0     0.0  \n",
      "1  preserve of crushed fruit     0.0     0.0  \n",
      "2  preserve of crushed fruit     0.0     0.0  \n",
      "3                        NaN     NaN     NaN  \n",
      "4                        NaN     NaN     NaN  \n"
     ]
    }
   ],
   "source": [
    "print(sent_lexicon.head())\n",
    "sent_lexicon = sent_lexicon[[\"synonyms\", \"neg value\", \"obj value\", \"pos value\", \"Eng Synonyms\"]]"
   ]
  },
  {
   "cell_type": "code",
   "execution_count": 18,
   "id": "297595fa",
   "metadata": {},
   "outputs": [
    {
     "name": "stdout",
     "output_type": "stream",
     "text": [
      "(14795, 5)\n",
      "True\n",
      "(13526, 5)\n"
     ]
    }
   ],
   "source": [
    "#This step eliminates NaN entries in the lexicon (due to the fact that SentiTurkNet is constructed based on English SentiNet)\n",
    "\n",
    "print(sent_lexicon.shape)\n",
    "print(sent_lexicon['synonyms'].isnull().values.any())\n",
    "sent_lexicon = sent_lexicon[sent_lexicon['synonyms'].notna()]\n",
    "print(sent_lexicon.shape)"
   ]
  },
  {
   "cell_type": "code",
   "execution_count": 30,
   "id": "5574c287",
   "metadata": {},
   "outputs": [],
   "source": [
    "# Lexicon-based sentiment classifier function. The function matches the words found in the input sentences with the words\n",
    "# in the sentiment lexicon. It spits out polarity values (positive/negative) regarding the input sentence.\n",
    "\n",
    "\n",
    "def sentiment_classifier_prob(text):\n",
    "    text = text.split()\n",
    "    sentence_values = pd.DataFrame()\n",
    "    for word in text:\n",
    "        word = word.lower()\n",
    "        try:\n",
    "            if  sent_lexicon['synonyms'].str.contains(word).any():\n",
    "                synset_vals = sent_lexicon[sent_lexicon['synonyms'].str.contains(word)][['neg value', 'obj value', 'pos value']]\n",
    "                word_negative_prob = sum(synset_vals[\"neg value\"]) / synset_vals.shape[0]\n",
    "                word_obj_prob = sum(synset_vals[\"obj value\"]) / synset_vals.shape[0]\n",
    "                word_pos_prob = sum(synset_vals[\"pos value\"]) / synset_vals.shape[0]\n",
    "                merged = {\"neg\": word_negative_prob, \"obj\": word_obj_prob, \"pos\": word_pos_prob}\n",
    "                sentence_values = sentence_values.append(merged, ignore_index=True)\n",
    "            else:\n",
    "                continue\n",
    "        except:\n",
    "            continue\n",
    "    \n",
    "    total_neg = sum(sentence_values[\"neg\"]) / sentence_values.shape[0]\n",
    "    total_obj = sum(sentence_values[\"obj\"]) / sentence_values.shape[0]\n",
    "    total_pos = sum(sentence_values[\"pos\"]) / sentence_values.shape[0]\n",
    "    \n",
    "    if total_obj > .87 or np.abs(total_neg - total_pos) < 0.02:\n",
    "        verdict = 2\n",
    "    elif total_neg > total_pos:\n",
    "        verdict = 1\n",
    "    elif total_pos > total_neg:\n",
    "        verdict = 3\n",
    "    else:\n",
    "        print(\"I cannot decide. There is something unexpected!\")\n",
    "        verdict = NaN\n",
    "        \n",
    "    return verdict\n",
    "                                                    "
   ]
  },
  {
   "cell_type": "code",
   "execution_count": 52,
   "id": "49adc4f4",
   "metadata": {},
   "outputs": [],
   "source": [
    "def sentiment_classifier_count(text):\n",
    "    sentence_values = pd.DataFrame()\n",
    "    text = text.split()\n",
    "    for word in text:\n",
    "        word = word.lower()\n",
    "        try:\n",
    "            if  sent_lexicon['synonyms'].str.contains(word).any():\n",
    "                synset_vals = sent_lexicon[sent_lexicon['synonyms'].str.contains(word)][['neg value', 'obj value', 'pos value']]\n",
    "                word_negative_prob = sum(synset_vals[\"neg value\"]) / synset_vals.shape[0]\n",
    "                word_obj_prob = sum(synset_vals[\"obj value\"]) / synset_vals.shape[0]\n",
    "                word_pos_prob = sum(synset_vals[\"pos value\"]) / synset_vals.shape[0]\n",
    "                merged = {\"neg\": word_negative_prob, \"obj\": word_obj_prob, \"pos\": word_pos_prob}\n",
    "                sentence_values = sentence_values.append(merged, ignore_index=True)\n",
    "            else:\n",
    "                continue\n",
    "        except:\n",
    "            continue\n",
    "    \n",
    "    neg_words_num = 0\n",
    "    obj_words_num = 0\n",
    "    pos_words_num = 0\n",
    "\n",
    "    try:\n",
    "        for ix, row in sentence_values.iterrows():\n",
    "            neg = (row[0])\n",
    "            obj = (row[1])\n",
    "            pos = (row[2])\n",
    "            row_values = [neg, obj, pos]\n",
    "            if row_values.index(max(row_values)) == 0:\n",
    "                neg_words_num = neg_words_num + 1\n",
    "            \n",
    "            if row_values.index(max(row_values)) == 1:\n",
    "                obj_words_num = obj_words_num +1\n",
    "            \n",
    "            if row_values.index(max(row_values)) == 2:\n",
    "                pos_words_num = pos_words_num + 1\n",
    "            \n",
    "        verdict_counts = (neg_words_num, obj_words_num, pos_words_num)\n",
    "            \n",
    "        if verdict_counts.index(max(verdict_counts)) == 0:\n",
    "            verdict = 'negative'\n",
    "        \n",
    "        elif verdict_counts.index(max(verdict_counts)) == 1:\n",
    "            if verdict_counts[0] > verdict_counts[2]:\n",
    "                verdict = 'negative'\n",
    "                \n",
    "            elif verdict_counts[0] < verdict_counts[2]:\n",
    "                verdict = 'positive'\n",
    "            else:\n",
    "                verdict = 'objective'\n",
    "            \n",
    "        elif verdict_counts.index(max(verdict_counts)) == 2:\n",
    "            verdict = 'positive'\n",
    "        \n",
    "        else:\n",
    "            verdict = 'unidentified'\n",
    "        \n",
    "    except:\n",
    "        verdict = 'unidentified'\n",
    "    return verdict"
   ]
  },
  {
   "cell_type": "markdown",
   "id": "344d5906",
   "metadata": {},
   "source": [
    "# 12th Grade Textbook"
   ]
  },
  {
   "cell_type": "markdown",
   "id": "b6b81f32",
   "metadata": {},
   "source": [
    "## Probability-based"
   ]
  },
  {
   "cell_type": "code",
   "execution_count": 34,
   "id": "c4b4d2ea",
   "metadata": {
    "scrolled": false
   },
   "outputs": [],
   "source": [
    "classified_12 = []\n",
    "\n",
    "for sent in txt12_minority_lemmatized:\n",
    "    if len(sent.split()) > 6:\n",
    "        verdict = sentiment_classifier_prob(sent)\n",
    "        row = (str(sent), verdict)\n",
    "        classified_12.append(row)    \n",
    "    else:\n",
    "        continue"
   ]
  },
  {
   "cell_type": "code",
   "execution_count": 154,
   "id": "5c448499",
   "metadata": {},
   "outputs": [
    {
     "name": "stdout",
     "output_type": "stream",
     "text": [
      "                                            Sentence  Class\n",
      "0  3 Ermeni Faaliyet ve A Terör Örgüt ..............      1\n",
      "1  Bilgi Not Bilgi Not Ali Rıza Efendi aile ; Osm...      3\n",
      "2  Zübeyde Han ata , Fatih Sultan Mehmet dönem , ...      3\n",
      "3  Iz Bırakmak Şehir Selanik : Mustafa Kemal doğu...      2\n",
      "4  Nüfus Çoğun Türk o Selanik ; Yunan , Ermek , B...      3\n",
      "----------------------------\n",
      "1    787\n",
      "3    782\n",
      "2    604\n",
      "Name: Class, dtype: int64\n"
     ]
    }
   ],
   "source": [
    "df_classified12 = pd.DataFrame(classified_12, columns = [\"Sentence\", \"Class\"])\n",
    "print(df_classified12.head())\n",
    "print(\"----------------------------\")\n",
    "print(df_classified12[\"Class\"].value_counts())"
   ]
  },
  {
   "cell_type": "code",
   "execution_count": 38,
   "id": "6bf4487c",
   "metadata": {},
   "outputs": [],
   "source": [
    "# Writing results to a csv file\n",
    "\n",
    "df_classified12.to_csv('lexicon_probbased_12.csv', index=False)"
   ]
  },
  {
   "cell_type": "markdown",
   "id": "87f7a63b",
   "metadata": {},
   "source": [
    "## Count-based function"
   ]
  },
  {
   "cell_type": "code",
   "execution_count": 53,
   "id": "83e16fe1",
   "metadata": {},
   "outputs": [],
   "source": [
    "classified_12_count = []\n",
    "\n",
    "for sent in txt12_minority_lemmatized:\n",
    "    if len(sent.split()) > 6:\n",
    "        verdict = sentiment_classifier_count(sent)\n",
    "        row = (str(sent), verdict)\n",
    "        classified_12_count.append(row)    \n",
    "    else:\n",
    "        continue"
   ]
  },
  {
   "cell_type": "code",
   "execution_count": 155,
   "id": "fbe6a9b8",
   "metadata": {},
   "outputs": [
    {
     "name": "stdout",
     "output_type": "stream",
     "text": [
      "                                            Sentence     Class\n",
      "0  3 Ermeni Faaliyet ve A Terör Örgüt ..............  negative\n",
      "1  Bilgi Not Bilgi Not Ali Rıza Efendi aile ; Osm...  positive\n",
      "2  Zübeyde Han ata , Fatih Sultan Mehmet dönem , ...  positive\n",
      "3  Iz Bırakmak Şehir Selanik : Mustafa Kemal doğu...  positive\n",
      "4  Nüfus Çoğun Türk o Selanik ; Yunan , Ermek , B...  negative\n",
      "----------------------------\n",
      "objective    918\n",
      "negative     678\n",
      "positive     577\n",
      "Name: Class, dtype: int64\n"
     ]
    }
   ],
   "source": [
    "df_classified12_count = pd.DataFrame(classified_12_count, columns = [\"Sentence\", \"Class\"])\n",
    "print(df_classified12_count.head())\n",
    "print(\"----------------------------\")\n",
    "print(df_classified12_count[\"Class\"].value_counts())"
   ]
  },
  {
   "cell_type": "code",
   "execution_count": 55,
   "id": "f9c8a6c1",
   "metadata": {},
   "outputs": [],
   "source": [
    "df_classified12_count.to_csv('lexicon_countbased_12.csv', index=False)"
   ]
  },
  {
   "cell_type": "markdown",
   "id": "bee4ea1a",
   "metadata": {},
   "source": [
    "# 11th Grade Textbook"
   ]
  },
  {
   "cell_type": "markdown",
   "id": "51cd4748",
   "metadata": {},
   "source": [
    "## Probability-based"
   ]
  },
  {
   "cell_type": "code",
   "execution_count": 57,
   "id": "128c396a",
   "metadata": {},
   "outputs": [],
   "source": [
    "classified_11 = []\n",
    "\n",
    "for sent in txt11_minority_lemmatized:\n",
    "    if len(sent.split()) > 6:\n",
    "        verdict = sentiment_classifier_prob(sent)\n",
    "        row = (str(sent), verdict)\n",
    "        classified_11.append(row)    \n",
    "    else:\n",
    "        continue"
   ]
  },
  {
   "cell_type": "code",
   "execution_count": 157,
   "id": "02921fe4",
   "metadata": {},
   "outputs": [
    {
     "name": "stdout",
     "output_type": "stream",
     "text": [
      "                                            Sentence  Class\n",
      "0  Osmanlı As bütün Hristiyan dünya hedeflemek sö...      3\n",
      "1  Merkez yönetim ve ordu yapmak düzenlemek yan s...      3\n",
      "2  Bu yüzyıl güç kaybetmek Venedik , kendi iç ası...      1\n",
      "3  Bu reform Katolik Hristiyan karşı girişmek har...      2\n",
      "4  Bu karşı Rus , Osmanlı Toprak ticaret yapmak v...      2\n",
      "----------------------------\n",
      "3    111\n",
      "2     64\n",
      "1     54\n",
      "Name: Class, dtype: int64\n"
     ]
    }
   ],
   "source": [
    "df_classified11 = pd.DataFrame(classified_11, columns = [\"Sentence\", \"Class\"])\n",
    "print(df_classified11.head())\n",
    "print(\"----------------------------\")\n",
    "print(df_classified11[\"Class\"].value_counts())"
   ]
  },
  {
   "cell_type": "code",
   "execution_count": 59,
   "id": "c9aca8b9",
   "metadata": {},
   "outputs": [],
   "source": [
    "# Writing results to a csv file\n",
    "\n",
    "df_classified11.to_csv('lexicon_probbased_11.csv', index=False)"
   ]
  },
  {
   "cell_type": "markdown",
   "id": "98c8db09",
   "metadata": {},
   "source": [
    "## Count-based"
   ]
  },
  {
   "cell_type": "code",
   "execution_count": 60,
   "id": "75959823",
   "metadata": {},
   "outputs": [],
   "source": [
    "classified_11_count = []\n",
    "\n",
    "for sent in txt11_minority_lemmatized:\n",
    "    if len(sent.split()) > 6:\n",
    "        verdict = sentiment_classifier_count(sent)\n",
    "        row = (str(sent), verdict)\n",
    "        classified_11_count.append(row)    \n",
    "    else:\n",
    "        continue"
   ]
  },
  {
   "cell_type": "code",
   "execution_count": 158,
   "id": "7f71bfed",
   "metadata": {},
   "outputs": [
    {
     "name": "stdout",
     "output_type": "stream",
     "text": [
      "                                            Sentence      Class\n",
      "0  Osmanlı As bütün Hristiyan dünya hedeflemek sö...   positive\n",
      "1  Merkez yönetim ve ordu yapmak düzenlemek yan s...   positive\n",
      "2  Bu yüzyıl güç kaybetmek Venedik , kendi iç ası...   negative\n",
      "3  Bu reform Katolik Hristiyan karşı girişmek har...   negative\n",
      "4  Bu karşı Rus , Osmanlı Toprak ticaret yapmak v...  objective\n",
      "----------------------------\n",
      "objective    84\n",
      "positive     74\n",
      "negative     71\n",
      "Name: Class, dtype: int64\n"
     ]
    }
   ],
   "source": [
    "df_classified11_count = pd.DataFrame(classified_11_count, columns = [\"Sentence\", \"Class\"])\n",
    "print(df_classified11_count.head())\n",
    "print(\"----------------------------\")\n",
    "print(df_classified11_count[\"Class\"].value_counts())"
   ]
  },
  {
   "cell_type": "code",
   "execution_count": 62,
   "id": "70155646",
   "metadata": {},
   "outputs": [],
   "source": [
    "df_classified11_count.to_csv('lexicon_countbased_11.csv', index=False)"
   ]
  },
  {
   "cell_type": "markdown",
   "id": "dc44c8ce",
   "metadata": {},
   "source": [
    "# 10th Grade Textbook"
   ]
  },
  {
   "cell_type": "markdown",
   "id": "cdede2c6",
   "metadata": {},
   "source": [
    "## Probability-based function"
   ]
  },
  {
   "cell_type": "code",
   "execution_count": 63,
   "id": "2a9eae8e",
   "metadata": {},
   "outputs": [],
   "source": [
    "classified_10 = []\n",
    "\n",
    "for sent in txt10_minority_lemmatized:\n",
    "    if len(sent.split()) > 6:\n",
    "        verdict = sentiment_classifier_prob(sent)\n",
    "        row = (str(sent), verdict)\n",
    "        classified_10.append(row)    \n",
    "    else:\n",
    "        continue"
   ]
  },
  {
   "cell_type": "code",
   "execution_count": 159,
   "id": "ef614ada",
   "metadata": {
    "scrolled": true
   },
   "outputs": [
    {
     "name": "stdout",
     "output_type": "stream",
     "text": [
      "                                            Sentence  Class\n",
      "0  Bu Döne Anadolu ; Rum ve Ermeni birlik Süryanî...      2\n",
      "1  Bu Döne Anadolu ; Rum ve Ermeni birlik Süryanî...      2\n",
      "2  Özellikle mezhep fark dolay Bizans tarafından ...      1\n",
      "3  Hatta Ermek Yerel hanedan , derebeyi aile , As...      2\n",
      "4  XI . yüzyıl Doğu Anadolu Ermek ve Süryanî ile ...      1\n",
      "----------------------------\n",
      "2    70\n",
      "1    69\n",
      "3    69\n",
      "Name: Class, dtype: int64\n"
     ]
    }
   ],
   "source": [
    "df_classified10 = pd.DataFrame(classified_10, columns = [\"Sentence\", \"Class\"])\n",
    "print(df_classified10.head())\n",
    "print(\"----------------------------\")\n",
    "print(df_classified10[\"Class\"].value_counts())"
   ]
  },
  {
   "cell_type": "code",
   "execution_count": 65,
   "id": "5d323b50",
   "metadata": {},
   "outputs": [],
   "source": [
    "# Writing results to a csv file\n",
    "\n",
    "df_classified10.to_csv('lexicon_probbased_10.csv', index=False)"
   ]
  },
  {
   "cell_type": "markdown",
   "id": "07f29d11",
   "metadata": {},
   "source": [
    "## Count-based function"
   ]
  },
  {
   "cell_type": "code",
   "execution_count": 66,
   "id": "e04abc16",
   "metadata": {},
   "outputs": [],
   "source": [
    "classified_10_count = []\n",
    "\n",
    "for sent in txt10_minority_lemmatized:\n",
    "    if len(sent.split()) > 6:\n",
    "        verdict = sentiment_classifier_count(sent)\n",
    "        row = (str(sent), verdict)\n",
    "        classified_10_count.append(row)    \n",
    "    else:\n",
    "        continue"
   ]
  },
  {
   "cell_type": "code",
   "execution_count": 160,
   "id": "40ec9039",
   "metadata": {},
   "outputs": [
    {
     "name": "stdout",
     "output_type": "stream",
     "text": [
      "                                            Sentence      Class\n",
      "0  Bu Döne Anadolu ; Rum ve Ermeni birlik Süryanî...  objective\n",
      "1  Bu Döne Anadolu ; Rum ve Ermeni birlik Süryanî...  objective\n",
      "2  Özellikle mezhep fark dolay Bizans tarafından ...   negative\n",
      "3  Hatta Ermek Yerel hanedan , derebeyi aile , As...  objective\n",
      "4  XI . yüzyıl Doğu Anadolu Ermek ve Süryanî ile ...   negative\n",
      "----------------------------\n",
      "objective    83\n",
      "negative     76\n",
      "positive     49\n",
      "Name: Class, dtype: int64\n"
     ]
    }
   ],
   "source": [
    "df_classified10_count = pd.DataFrame(classified_10_count, columns = [\"Sentence\", \"Class\"])\n",
    "print(df_classified10_count.head())\n",
    "print(\"----------------------------\")\n",
    "print(df_classified10_count[\"Class\"].value_counts())"
   ]
  },
  {
   "cell_type": "code",
   "execution_count": 68,
   "id": "534d5a81",
   "metadata": {},
   "outputs": [],
   "source": [
    "# Writing results to a csv file\n",
    "\n",
    "df_classified10_count.to_csv('lexicon_countbased_10.csv', index=False)"
   ]
  },
  {
   "cell_type": "markdown",
   "id": "312c8119",
   "metadata": {},
   "source": [
    "# 9th Grade Textbook"
   ]
  },
  {
   "cell_type": "markdown",
   "id": "11fc9341",
   "metadata": {},
   "source": [
    "## Probability-based"
   ]
  },
  {
   "cell_type": "code",
   "execution_count": 69,
   "id": "d1bf1389",
   "metadata": {},
   "outputs": [],
   "source": [
    "classified_9 = []\n",
    "\n",
    "for sent in txt9_minority_lemmatized:\n",
    "    if len(sent.split()) > 6:\n",
    "        verdict = sentiment_classifier_prob(sent)\n",
    "        row = (str(sent), verdict)\n",
    "        classified_9.append(row)    \n",
    "    else:\n",
    "        continue"
   ]
  },
  {
   "cell_type": "code",
   "execution_count": 161,
   "id": "4c5aa337",
   "metadata": {},
   "outputs": [
    {
     "name": "stdout",
     "output_type": "stream",
     "text": [
      "                                            Sentence  Class\n",
      "0  Batı dil karşı Yunan “ istoria ” dan türemek H...      1\n",
      "1  Bu bilim insan bazı bu yazı ; Prusya , Iskitle...      2\n",
      "2  Sümer , Babil , Mısır , Yunan , İbranî , Roma ...      2\n",
      "3  Örnek İbranî mö 3761deki Yaradılış ( Tekvin ) ...      2\n",
      "4  Örnek İbranî mö 3761deki Yaradılış ( Tekvin ) ...      2\n",
      "----------------------------\n",
      "2    45\n",
      "3    36\n",
      "1    27\n",
      "Name: Class, dtype: int64\n"
     ]
    }
   ],
   "source": [
    "df_classified9 = pd.DataFrame(classified_9, columns = [\"Sentence\", \"Class\"])\n",
    "print(df_classified9.head())\n",
    "print(\"----------------------------\")\n",
    "print(df_classified9[\"Class\"].value_counts())"
   ]
  },
  {
   "cell_type": "code",
   "execution_count": 71,
   "id": "58a62f60",
   "metadata": {},
   "outputs": [],
   "source": [
    "# Writing results to a csv file\n",
    "\n",
    "df_classified9.to_csv('lexicon_probbased_9.csv', index=False)"
   ]
  },
  {
   "cell_type": "markdown",
   "id": "9f06810b",
   "metadata": {},
   "source": [
    "## Count-based"
   ]
  },
  {
   "cell_type": "code",
   "execution_count": 72,
   "id": "b47503dc",
   "metadata": {},
   "outputs": [],
   "source": [
    "classified_9_count = []\n",
    "\n",
    "for sent in txt9_minority_lemmatized:\n",
    "    if len(sent.split()) > 6:\n",
    "        verdict = sentiment_classifier_count(sent)\n",
    "        row = (str(sent), verdict)\n",
    "        classified_9_count.append(row)    \n",
    "    else:\n",
    "        continue"
   ]
  },
  {
   "cell_type": "code",
   "execution_count": 162,
   "id": "d0ab68cb",
   "metadata": {},
   "outputs": [
    {
     "name": "stdout",
     "output_type": "stream",
     "text": [
      "                                            Sentence      Class\n",
      "0  Batı dil karşı Yunan “ istoria ” dan türemek H...  objective\n",
      "1  Bu bilim insan bazı bu yazı ; Prusya , Iskitle...  objective\n",
      "2  Sümer , Babil , Mısır , Yunan , İbranî , Roma ...   negative\n",
      "3  Örnek İbranî mö 3761deki Yaradılış ( Tekvin ) ...  objective\n",
      "4  Örnek İbranî mö 3761deki Yaradılış ( Tekvin ) ...  objective\n",
      "----------------------------\n",
      "objective    43\n",
      "negative     39\n",
      "positive     26\n",
      "Name: Class, dtype: int64\n"
     ]
    }
   ],
   "source": [
    "df_classified9_count = pd.DataFrame(classified_9_count, columns = [\"Sentence\", \"Class\"])\n",
    "print(df_classified9_count.head())\n",
    "print(\"----------------------------\")\n",
    "print(df_classified9_count[\"Class\"].value_counts())"
   ]
  },
  {
   "cell_type": "code",
   "execution_count": 74,
   "id": "69ad479b",
   "metadata": {},
   "outputs": [],
   "source": [
    "# Writing results to a csv file\n",
    "\n",
    "df_classified9_count.to_csv('lexicon_countbased_9.csv', index=False)"
   ]
  },
  {
   "cell_type": "markdown",
   "id": "751a7111",
   "metadata": {},
   "source": [
    "# Plotting"
   ]
  },
  {
   "cell_type": "code",
   "execution_count": 163,
   "id": "6b6b5504",
   "metadata": {},
   "outputs": [],
   "source": [
    "import matplotlib.pyplot as plt\n",
    "import seaborn as sns\n",
    "sns.set_theme(style=\"darkgrid\")"
   ]
  },
  {
   "cell_type": "markdown",
   "id": "e97012c1",
   "metadata": {},
   "source": [
    "## Merging results"
   ]
  },
  {
   "cell_type": "code",
   "execution_count": 164,
   "id": "78ad8f8e",
   "metadata": {},
   "outputs": [],
   "source": [
    "df_classified9_count[\"Grade\"] = int(9)\n",
    "df_classified9[\"Grade\"] = int(9)\n",
    "\n",
    "df_classified9.loc[df_classified9.Class == 1, 'Class'] = \"negative\"\n",
    "df_classified9.loc[df_classified9.Class == 2, 'Class'] = \"objective\"\n",
    "df_classified9.loc[df_classified9.Class == 3, 'Class'] = \"positive\""
   ]
  },
  {
   "cell_type": "code",
   "execution_count": 165,
   "id": "9aa191d8",
   "metadata": {},
   "outputs": [],
   "source": [
    "df_classified10_count[\"Grade\"] = int(10)\n",
    "df_classified10[\"Grade\"] = int(10)\n",
    "\n",
    "df_classified10.loc[df_classified10.Class == 1, 'Class'] = \"negative\"\n",
    "df_classified10.loc[df_classified10.Class == 2, 'Class'] = \"objective\"\n",
    "df_classified10.loc[df_classified10.Class == 3, 'Class'] = \"positive\""
   ]
  },
  {
   "cell_type": "code",
   "execution_count": 166,
   "id": "d3f93a7c",
   "metadata": {},
   "outputs": [],
   "source": [
    "df_classified11_count[\"Grade\"] = int(11)\n",
    "df_classified11[\"Grade\"] = int(11)\n",
    "\n",
    "df_classified11.loc[df_classified11.Class == 1, 'Class'] = \"negative\"\n",
    "df_classified11.loc[df_classified11.Class == 2, 'Class'] = \"objective\"\n",
    "df_classified11.loc[df_classified11.Class == 3, 'Class'] = \"positive\""
   ]
  },
  {
   "cell_type": "code",
   "execution_count": 167,
   "id": "64d9f8eb",
   "metadata": {},
   "outputs": [],
   "source": [
    "df_classified12_count[\"Grade\"] = int(12)\n",
    "df_classified12[\"Grade\"] = int(12)\n",
    "\n",
    "df_classified12.loc[df_classified12.Class == 1, 'Class'] = \"negative\"\n",
    "df_classified12.loc[df_classified12.Class == 2, 'Class'] = \"objective\"\n",
    "df_classified12.loc[df_classified12.Class == 3, 'Class'] = \"positive\""
   ]
  },
  {
   "cell_type": "code",
   "execution_count": 168,
   "id": "d4bfcad0",
   "metadata": {},
   "outputs": [],
   "source": [
    "frames_prob = [df_classified9, df_classified10, df_classified11, df_classified12]\n",
    "\n",
    "merged_prob_results = pd.concat(frames_prob)"
   ]
  },
  {
   "cell_type": "code",
   "execution_count": 180,
   "id": "b922072d",
   "metadata": {},
   "outputs": [
    {
     "data": {
      "image/png": "[encoded data removed]",
      "text/plain": [
       "<Figure size 443.35x360 with 1 Axes>"
      ]
     },
     "metadata": {},
     "output_type": "display_data"
    }
   ],
   "source": [
    "x, y = 'Grade', 'Class'\n",
    "\n",
    "plot_collective = (merged_prob_results\n",
    ".groupby(x)[y]\n",
    ".value_counts(normalize=True)\n",
    ".mul(100)\n",
    ".rename('percent')\n",
    ".reset_index()\n",
    ".pipe((sns.catplot,'data'), x=x,y='percent',hue=y, kind='bar'))\n",
    "\n",
    "plot_collective.set(xlabel=\"Grades\", ylabel = \"Percentage\", title='Lexicon-Based (Prob) Classification Results')\n",
    "plt.savefig('lexprob.png', dpi=900, bbox_inches='tight')"
   ]
  },
  {
   "cell_type": "code",
   "execution_count": 173,
   "id": "87020ceb",
   "metadata": {},
   "outputs": [],
   "source": [
    "frames_count = [df_classified9_count, df_classified10_count, df_classified11_count, df_classified12_count]\n",
    "\n",
    "merged_count_results = pd.concat(frames_count)"
   ]
  },
  {
   "cell_type": "code",
   "execution_count": 179,
   "id": "749bf08f",
   "metadata": {},
   "outputs": [
    {
     "data": {
      "image/png": "[encoded data removed]",
      "text/plain": [
       "<Figure size 443.35x360 with 1 Axes>"
      ]
     },
     "metadata": {},
     "output_type": "display_data"
    }
   ],
   "source": [
    "x, y = 'Grade', 'Class'\n",
    "\n",
    "plot_collective = (merged_count_results\n",
    ".groupby(x)[y]\n",
    ".value_counts(normalize=True)\n",
    ".mul(100)\n",
    ".rename('percent')\n",
    ".reset_index()\n",
    ".pipe((sns.catplot,'data'), x=x,y='percent',hue=y, kind='bar'))\n",
    "\n",
    "plot_collective.set(xlabel=\"Grades\", ylabel = \"Percentage\", title='Lexicon-Based (Count) Classification Results')\n",
    "\n",
    "plt.savefig('lexcount.png', dpi=900, bbox_inches='tight')"
   ]
  },
  {
   "cell_type": "code",
   "execution_count": null,
   "id": "66f1d219",
   "metadata": {},
   "outputs": [],
   "source": []
  }
 ],
 "metadata": {
  "kernelspec": {
   "display_name": "Python 3 (ipykernel)",
   "language": "python",
   "name": "python3"
  },
  "language_info": {
   "codemirror_mode": {
    "name": "ipython",
    "version": 3
   },
   "file_extension": ".py",
   "mimetype": "text/x-python",
   "name": "python",
   "nbconvert_exporter": "python",
   "pygments_lexer": "ipython3",
   "version": "3.8.12"
  }
 },
 "nbformat": 4,
 "nbformat_minor": 5
}
