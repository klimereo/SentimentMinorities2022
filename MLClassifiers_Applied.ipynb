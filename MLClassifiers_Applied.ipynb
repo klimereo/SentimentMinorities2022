{
 "cells": [
  {
   "cell_type": "markdown",
   "id": "535fe051",
   "metadata": {},
   "source": [
    "# Trained Machine Learning Classifiers In-Action\n",
    "\n",
    "This notebook predicts sentiment values of extracted sentences with the trained machine learning classifiers."
   ]
  },
  {
   "cell_type": "code",
   "execution_count": 1,
   "id": "a00aebad",
   "metadata": {},
   "outputs": [],
   "source": [
    "import nltk\n",
    "from nltk.corpus import stopwords\n",
    "import pandas as pd\n",
    "import re\n",
    "import string\n",
    "from sklearn import preprocessing\n",
    "import joblib\n",
    "from sklearn.pipeline import Pipeline\n",
    "from sklearn.metrics import confusion_matrix\n",
    "from sklearn.naive_bayes import MultinomialNB\n",
    "from sklearn.model_selection import GridSearchCV\n",
    "from sklearn.metrics import classification_report\n",
    "from sklearn.model_selection import train_test_split, StratifiedKFold\n",
    "from sklearn.feature_extraction.text import TfidfVectorizer\n",
    "from sklearn.model_selection import cross_val_score,cross_validate\n",
    "from sklearn.metrics import make_scorer, accuracy_score, f1_score, precision_score, recall_score"
   ]
  },
  {
   "cell_type": "code",
   "execution_count": 2,
   "id": "50456188",
   "metadata": {},
   "outputs": [],
   "source": [
    "mnb = joblib.load('mnb_minorities.sav')\n",
    "svm = joblib.load('svm_minorities.sav')\n",
    "rf = joblib.load('rf_minorities.sav')"
   ]
  },
  {
   "cell_type": "code",
   "execution_count": 3,
   "id": "703818ce",
   "metadata": {},
   "outputs": [],
   "source": [
    "with open('9thgrade_sentences_lemmatized.txt', 'r', encoding = 'utf-8') as f1:\n",
    "    lines = f1.readlines()\n",
    "    test_9 = [line.rstrip() for line in lines]\n",
    "\n",
    "with open('10thgrade_sentences_lemmatized.txt', 'r', encoding = 'utf-8') as f2:\n",
    "    lines = f2.readlines()\n",
    "    test_10 = [line.rstrip() for line in lines]\n",
    "    \n",
    "with open('11thgrade_sentences_lemmatized.txt', 'r', encoding = 'utf-8') as f3:\n",
    "    lines = f3.readlines()\n",
    "    test_11 = [line.rstrip() for line in lines]\n",
    "\n",
    "with open('12thgrade_sentences_lemmatized.txt', 'r', encoding = 'utf-8') as f4:\n",
    "    lines = f4.readlines()\n",
    "    test_12 = [line.rstrip() for line in lines]"
   ]
  },
  {
   "cell_type": "code",
   "execution_count": 4,
   "id": "82b8c789",
   "metadata": {},
   "outputs": [],
   "source": [
    "mnb_9_predictions = []\n",
    "svm_9_predictions = []\n",
    "rf_9_predictions = []\n",
    "\n",
    "for line in test_9:\n",
    "    mnb_9_predictions.append(mnb.predict([line])[0])\n",
    "    svm_9_predictions.append(svm.predict([line])[0])\n",
    "    rf_9_predictions.append(rf.predict([line])[0])\n",
    "    \n",
    "    \n",
    "mnb_10_predictions = []\n",
    "svm_10_predictions = []\n",
    "rf_10_predictions = []\n",
    "\n",
    "for line in test_10:\n",
    "    mnb_10_predictions.append(mnb.predict([line])[0])\n",
    "    svm_10_predictions.append(svm.predict([line])[0])\n",
    "    rf_10_predictions.append(rf.predict([line])[0])\n",
    "    \n",
    "\n",
    "mnb_11_predictions = []\n",
    "svm_11_predictions = []\n",
    "rf_11_predictions = []\n",
    "\n",
    "for line in test_11:\n",
    "    mnb_11_predictions.append(mnb.predict([line])[0])\n",
    "    svm_11_predictions.append(svm.predict([line])[0])\n",
    "    rf_11_predictions.append(rf.predict([line])[0])\n",
    "    \n",
    "\n",
    "mnb_12_predictions = []\n",
    "svm_12_predictions = []\n",
    "rf_12_predictions = []\n",
    "\n",
    "for line in test_11:\n",
    "    mnb_12_predictions.append(mnb.predict([line])[0])\n",
    "    svm_12_predictions.append(svm.predict([line])[0])\n",
    "    rf_12_predictions.append(rf.predict([line])[0])"
   ]
  },
  {
   "cell_type": "code",
   "execution_count": 5,
   "id": "25b592e6",
   "metadata": {},
   "outputs": [],
   "source": [
    "compiled_results_9 = pd.DataFrame({\"Naive Bayes\": mnb_9_predictions,\n",
    "                                   \"SVM\": svm_9_predictions, \n",
    "                                   \"Random Forest\": rf_9_predictions})\n",
    "\n",
    "compiled_results_10 = pd.DataFrame({\"Naive Bayes\": mnb_10_predictions,\n",
    "                                   \"SVM\": svm_10_predictions, \n",
    "                                   \"Random Forest\": rf_10_predictions})\n",
    "\n",
    "compiled_results_11 = pd.DataFrame({\"Naive Bayes\": mnb_11_predictions,\n",
    "                                   \"SVM\": svm_11_predictions, \n",
    "                                   \"Random Forest\": rf_11_predictions})\n",
    "\n",
    "compiled_results_12 = pd.DataFrame({\"Naive Bayes\": mnb_12_predictions,\n",
    "                                   \"SVM\": svm_12_predictions, \n",
    "                                   \"Random Forest\": rf_12_predictions})"
   ]
  },
  {
   "cell_type": "code",
   "execution_count": 41,
   "id": "17c7747a",
   "metadata": {
    "scrolled": true
   },
   "outputs": [],
   "source": [
    "ensembled9 = compiled_results_9.mode(axis=1).astype('int64')\n",
    "compiled_results_9 = compiled_results_9.assign(Ensemble_decision = ensembled9.iloc[:, 0] )\n",
    "\n",
    "compiled_results_9['Grade'] = 9"
   ]
  },
  {
   "cell_type": "code",
   "execution_count": 42,
   "id": "8361b27e",
   "metadata": {},
   "outputs": [],
   "source": [
    "ensembled10 = compiled_results_10.mode(axis=1)\n",
    "compiled_results_10 = compiled_results_10.assign(Ensemble_decision = ensembled10.iloc[:, 0])\n",
    "\n",
    "compiled_results_10['Grade'] = 10"
   ]
  },
  {
   "cell_type": "code",
   "execution_count": 43,
   "id": "8d3f79de",
   "metadata": {},
   "outputs": [],
   "source": [
    "ensembled11 = compiled_results_11.mode(axis=1)\n",
    "compiled_results_11 = compiled_results_11.assign(Ensemble_decision = ensembled11.iloc[:, 0])\n",
    "\n",
    "compiled_results_11['Grade'] = 11"
   ]
  },
  {
   "cell_type": "code",
   "execution_count": 44,
   "id": "44f7dfd2",
   "metadata": {},
   "outputs": [],
   "source": [
    "ensembled12 = compiled_results_12.mode(axis=1)\n",
    "compiled_results_12 = compiled_results_12.assign(Ensemble_decision = ensembled12.iloc[:, 0])\n",
    "\n",
    "compiled_results_12['Grade'] = 12"
   ]
  },
  {
   "cell_type": "code",
   "execution_count": 57,
   "id": "ca1afffa",
   "metadata": {},
   "outputs": [],
   "source": [
    "all_ml_compiled = pd.concat([compiled_results_9, compiled_results_10, compiled_results_11, compiled_results_12], \n",
    "                            ignore_index = True)"
   ]
  },
  {
   "cell_type": "code",
   "execution_count": 58,
   "id": "33fb658c",
   "metadata": {},
   "outputs": [],
   "source": [
    "all_ml_compiled['Ensemble_decision'] = all_ml_compiled['Ensemble_decision'].astype('int64')"
   ]
  },
  {
   "cell_type": "code",
   "execution_count": 59,
   "id": "2d201b37",
   "metadata": {},
   "outputs": [],
   "source": [
    "import matplotlib.pyplot as plt\n",
    "import seaborn as sns\n",
    "sns.set_theme(style=\"darkgrid\")"
   ]
  },
  {
   "cell_type": "code",
   "execution_count": 70,
   "id": "7298fc40",
   "metadata": {
    "scrolled": true
   },
   "outputs": [
    {
     "data": {
      "image/png": "[encoded data removed]",
      "text/plain": [
       "<Figure size 432x288 with 1 Axes>"
      ]
     },
     "metadata": {},
     "output_type": "display_data"
    }
   ],
   "source": [
    "plot = sns.countplot(x=\"Grade\", hue = 'Ensemble_decision', data=all_ml_compiled)\n",
    "plot.set(xlabel=\"Grades\", ylabel = \"Number of Sentences\", title='Classifier Ensemble Decisions')\n",
    "plt.legend(bbox_to_anchor=(1.27, 1), \n",
    "           loc='upper right', \n",
    "           borderaxespad=0, \n",
    "           title = \"Classes\", \n",
    "           labels=['Negative', 'Objective', 'Positive'])\n",
    "plt.savefig('ensemble_plot.png', dpi=900, bbox_inches='tight')"
   ]
  },
  {
   "cell_type": "code",
   "execution_count": null,
   "id": "060bc1cd",
   "metadata": {},
   "outputs": [],
   "source": []
  }
 ],
 "metadata": {
  "kernelspec": {
   "display_name": "Python 3 (ipykernel)",
   "language": "python",
   "name": "python3"
  },
  "language_info": {
   "codemirror_mode": {
    "name": "ipython",
    "version": 3
   },
   "file_extension": ".py",
   "mimetype": "text/x-python",
   "name": "python",
   "nbconvert_exporter": "python",
   "pygments_lexer": "ipython3",
   "version": "3.8.12"
  }
 },
 "nbformat": 4,
 "nbformat_minor": 5
}
