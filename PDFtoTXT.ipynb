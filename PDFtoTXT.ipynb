{
 "cells": [
  {
   "cell_type": "markdown",
   "id": "809237e5",
   "metadata": {},
   "source": [
    "# 1. PDF to TXT Conversion"
   ]
  },
  {
   "cell_type": "code",
   "execution_count": 1,
   "id": "353c976a",
   "metadata": {},
   "outputs": [],
   "source": [
    "import io\n",
    "\n",
    "from pdfminer.pdfinterp import PDFResourceManager, PDFPageInterpreter\n",
    "from pdfminer.converter import TextConverter\n",
    "from pdfminer.layout import LAParams\n",
    "from pdfminer.pdfpage import PDFPage\n",
    "\n",
    "\n",
    "def convert_pdf_to_txt(path):\n",
    "    rsrcmgr = PDFResourceManager()\n",
    "    retstr = io.StringIO()\n",
    "    codec = 'utf-8'\n",
    "    laparams = LAParams()\n",
    "    device = TextConverter(rsrcmgr, retstr, codec=codec, laparams=laparams)\n",
    "    fp = open(path, 'rb')\n",
    "    interpreter = PDFPageInterpreter(rsrcmgr, device)\n",
    "    password = \"\"\n",
    "    maxpages = 0\n",
    "    caching = True\n",
    "    pagenos = set()\n",
    "\n",
    "    for page in PDFPage.get_pages(fp, pagenos, maxpages=maxpages,\n",
    "                                  password=password,\n",
    "                                  caching=caching,\n",
    "                                  check_extractable=True):\n",
    "        interpreter.process_page(page)\n",
    "\n",
    "\n",
    "\n",
    "    fp.close()\n",
    "    device.close()\n",
    "    text = retstr.getvalue()\n",
    "    retstr.close()\n",
    "    return text"
   ]
  },
  {
   "cell_type": "code",
   "execution_count": 5,
   "id": "75cb28fa",
   "metadata": {},
   "outputs": [],
   "source": [
    "r_file_names = ['obl/9 tarih.pdf', 'obl/10 tarih.pdf', 'obl/11 tarih.pdf', 'obl/12inkilap.pdf']\n",
    "w_file_names = ['obl/txt/9tarih.txt', 'obl/txt/10tarih.txt', 'obl/txt/11tarih.txt', 'obl/txt/12inkilap.txt']"
   ]
  },
  {
   "cell_type": "code",
   "execution_count": 3,
   "id": "f50c700c",
   "metadata": {
    "scrolled": false
   },
   "outputs": [],
   "source": [
    "text1 = convert_pdf_to_txt(r_file_names[0])\n",
    "text2 = convert_pdf_to_txt(r_file_names[1])\n",
    "text3 = convert_pdf_to_txt(r_file_names[2])\n",
    "text4 = convert_pdf_to_txt(r_file_names[3])"
   ]
  },
  {
   "cell_type": "code",
   "execution_count": 8,
   "id": "c0bb6401",
   "metadata": {},
   "outputs": [],
   "source": [
    "with  open(w_file_names[0], \"w\", encoding = \"utf-8\") as file:\n",
    "    file.write(text1)\n",
    "    file.close()\n",
    "    \n",
    "with  open(w_file_names[1], \"w\", encoding = \"utf-8\") as file1:\n",
    "    file1.write(text2)\n",
    "    file1.close()\n",
    "    \n",
    "with  open(w_file_names[2], \"w\", encoding = \"utf-8\") as file2:\n",
    "    file2.write(text3)\n",
    "    file2.close()\n",
    "    \n",
    "with  open(w_file_names[3], \"w\", encoding = \"utf-8\") as file3:\n",
    "    file3.write(text4)\n",
    "    file3.close()"
   ]
  }
 ],
 "metadata": {
  "kernelspec": {
   "display_name": "Python 3 (ipykernel)",
   "language": "python",
   "name": "python3"
  },
  "language_info": {
   "codemirror_mode": {
    "name": "ipython",
    "version": 3
   },
   "file_extension": ".py",
   "mimetype": "text/x-python",
   "name": "python",
   "nbconvert_exporter": "python",
   "pygments_lexer": "ipython3",
   "version": "3.8.12"
  }
 },
 "nbformat": 4,
 "nbformat_minor": 5
}
